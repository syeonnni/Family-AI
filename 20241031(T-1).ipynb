{
 "cells": [
  {
   "cell_type": "code",
   "execution_count": 2,
   "id": "b0b2962b-e13d-4656-8bf2-f1df98c8d1eb",
   "metadata": {},
   "outputs": [],
   "source": [
    "import requests"
   ]
  },
  {
   "cell_type": "code",
   "execution_count": 3,
   "id": "ab549bc5-3398-4500-bf4d-6586755ecb0a",
   "metadata": {},
   "outputs": [],
   "source": [
    "url = \"https://n.news.naver.com/mnews/article/008/0005107386\""
   ]
  },
  {
   "cell_type": "code",
   "execution_count": 4,
   "id": "86ab6cf1-b1cc-4f76-ab21-091053ca0e9d",
   "metadata": {},
   "outputs": [],
   "source": [
    "r = requests.get(url)"
   ]
  },
  {
   "cell_type": "code",
   "execution_count": 10,
   "id": "a48d545a-62be-4a11-95ae-871a173e53ea",
   "metadata": {},
   "outputs": [
    {
     "data": {
      "text/plain": [
       "'newsct_article\" class=\"newsct_article _article_body\">\\n\\t\\t<article id=\"dic_area\" class=\"go_trans _article_content\">\\n\\t\\t\\t<strong class=\"media_end_summary\">USB-A 포트 삭제…전원버튼 밑면으로</strong><span class=\"end_photo_org\"><div class=\"nbd_im_w _LAZY_LOADING_WRAP \">\\n\\t<div class=\"nbd_a _LAZY_LOADING_ERROR_HIDE\" id=\"img_a1\">\\n\\t\\t<img id=\"img1\" data-src=\"https://imgnews.pstatic.net/image/008/2024/10/30/0005107386_001_20241030094914303.jpg?type&#x3D;w860\" class=\"_LAZY_LOADING _LAZY_LOADING_INIT_HIDE\" alt=\"애플이 29일(현지시간) 공개한 데스크톱 &#x27;맥 미니&#x27; 신규모델의 앞면./사진제공&#x3D;애플\" style=\"display: none;\" />\\n\\t</div>\\n</div><em class=\"img_desc\">애플이 29일(현지시간) 공개한 데스크톱 \\'맥 미니\\' 신규모델'"
      ]
     },
     "execution_count": 10,
     "metadata": {},
     "output_type": "execute_result"
    }
   ],
   "source": [
    "r.text[29351:30000]"
   ]
  },
  {
   "cell_type": "code",
   "execution_count": 9,
   "id": "d0ab50c3-d9a2-41a5-ae64-f4497a028281",
   "metadata": {},
   "outputs": [
    {
     "data": {
      "text/plain": [
       "29351"
      ]
     },
     "execution_count": 9,
     "metadata": {},
     "output_type": "execute_result"
    }
   ],
   "source": [
    "r.text.find(\"newsct_article\")"
   ]
  },
  {
   "cell_type": "code",
   "execution_count": 8,
   "id": "b09bbd43-a280-44c1-85a6-b5acecb0da09",
   "metadata": {},
   "outputs": [],
   "source": [
    "from bs4 import BeautifulSoup"
   ]
  },
  {
   "cell_type": "code",
   "execution_count": 11,
   "id": "aa034a91-1382-4146-aff0-8d411e9914cb",
   "metadata": {},
   "outputs": [],
   "source": [
    "bs = BeautifulSoup(r.text)"
   ]
  },
  {
   "cell_type": "code",
   "execution_count": 23,
   "id": "a909394e-eea9-4796-80b6-1b8fa62a069b",
   "metadata": {},
   "outputs": [
    {
     "data": {
      "text/plain": [
       "'https://imgnews.pstatic.net/image/008/2024/10/30/0005107386_001_20241030094914303.jpg?type=w860'"
      ]
     },
     "execution_count": 23,
     "metadata": {},
     "output_type": "execute_result"
    }
   ],
   "source": [
    "bs.find(\"div\", id=\"newsct_article\").find(\"img\")['data-src']"
   ]
  },
  {
   "cell_type": "code",
   "execution_count": 25,
   "id": "2e11018b-be18-4bfe-873d-45cce31bd512",
   "metadata": {},
   "outputs": [
    {
     "data": {
      "text/plain": [
       "\"애플이 29일(현지시간) 공개한 데스크톱 '맥 미니' 신규모델의 앞면./사진제공=애플\""
      ]
     },
     "execution_count": 25,
     "metadata": {},
     "output_type": "execute_result"
    }
   ],
   "source": [
    "bs.find(\"div\", id=\"newsct_article\").find(\"img\")['alt']"
   ]
  },
  {
   "cell_type": "code",
   "execution_count": 32,
   "id": "19f519cb-1e45-4e87-a2e6-7b13c20a47c8",
   "metadata": {},
   "outputs": [],
   "source": [
    "with open(\"./article.txt\", \"w\", encoding='utf-8') as f:\n",
    "    f.write(bs.find(\"div\", id=\"newsct_article\").text.strip())"
   ]
  },
  {
   "cell_type": "code",
   "execution_count": null,
   "id": "cd4bfc75-a9b0-4b7b-ac00-59b4cb213d9a",
   "metadata": {},
   "outputs": [],
   "source": []
  },
  {
   "cell_type": "code",
   "execution_count": 33,
   "id": "a70b9dbc-0bb8-4521-988e-a06fa488a358",
   "metadata": {},
   "outputs": [],
   "source": [
    "url = \"https://n.news.naver.com/mnews/article/031/0000880922\""
   ]
  },
  {
   "cell_type": "code",
   "execution_count": 34,
   "id": "8b906538-30b2-4357-b4a4-09787efaa581",
   "metadata": {},
   "outputs": [],
   "source": [
    "r = requests.get(url)"
   ]
  },
  {
   "cell_type": "code",
   "execution_count": 35,
   "id": "46e28cb1-3c87-4ea8-944d-58c6417432c5",
   "metadata": {},
   "outputs": [],
   "source": [
    "bs = BeautifulSoup(r.text)"
   ]
  },
  {
   "cell_type": "code",
   "execution_count": 36,
   "id": "91694e1e-ccfe-4a1f-95a7-ea673495ae00",
   "metadata": {},
   "outputs": [
    {
     "data": {
      "text/plain": [
       "'\\n\\n\"신규 도입 기능들 긍정 반응…개인 맞춤형 서비스 고도화\"티맵모빌리티는 지난 9월 출시한 인공지능(AI) 기반 장소 추천 서비스 \\'어디갈까\\'의 누적 이용자가 507만명을 넘어섰다고 31일 밝혔다.\\n\\n\\n\\n[사진=티맵모빌리티]티맵모빌리티에 따르면 이 서비스는 단순한 장소 추천을 넘어 이용자 주행 데이터를 기반으로 근거리 뿐 아니라 원거리 장소와 향후 이동 경로까지 제안한다.이용자가 실제로 방문한 장소만 후기(리뷰)를 작성할 수 있도록 \\'주행 인증 리뷰\\' 시스템이나 사업주가 직접 매장 정보를 관리할 수 있는 \\'비즈플레이스\\' 등 새로 도입한 기능에 대한 반응이 좋았던 것으로 전해진다.티맵모빌리티는 장소별 세부 정보 확인, 후기·사진 등록 등 플랫폼 내 이용자 활동성은 기존 대비 5배 가량 증가했다고 밝혔다. 사업주가 \\'비즈플레이스\\'를 통해 관리한 장소의 경우에는 사업주가 관리하지 않는 장소 대비 최대 6배까지 방문자가 많은 것으로 나타났다.오는 11월 첫째 주부터는 티맵 애플리케이션(앱) 내 \\'전체\\' 탭을 \\'마이(My)\\' 탭으로 개편해 한층 더 개인화된 경험을 제공한다. 이용자는 개성을 반영한 프로필 이미지를 등록하고 방문한 장소에 대한 후기를 보다 편리하게 작성할 수 있게 된다. 티맵 길 안내를 통해 방문한 장소를 일일이 검색할 필요 없이 최근 방문한 장소 목록을 통해 바로 후기를 남길 수 있는 기능도 추가된다. 작성한 후기에 다른 이용자가 남긴 반응도 실시간으로 확인할 수 있게 된다.전창근 티맵모빌리티 프로덕트 담당은 \"맛집, 카페, 관광지 등 다양한 장소를 더 쉽고 정확하게 찾을 수 있는 가치를 제공해 나갈 것\"이라며 \"새로 도입되는 \\'마이\\' 탭을 시작으로 연내 AI를 적용한 개인 맞춤형 서비스를 고도화해 이용자 경험을 확대할 것\"이라고 밝혔다.\\n\\n'"
      ]
     },
     "execution_count": 36,
     "metadata": {},
     "output_type": "execute_result"
    }
   ],
   "source": [
    "bs.find(\"div\", id=\"newsct_article\").text"
   ]
  },
  {
   "cell_type": "code",
   "execution_count": 37,
   "id": "a33227d4-423f-4160-89c0-b3bfdf3ecbd3",
   "metadata": {},
   "outputs": [
    {
     "data": {
      "text/plain": [
       "'/home/encore'"
      ]
     },
     "execution_count": 37,
     "metadata": {},
     "output_type": "execute_result"
    }
   ],
   "source": [
    "import os \n",
    "os.getcwd()"
   ]
  },
  {
   "cell_type": "code",
   "execution_count": 42,
   "id": "39b31482-170a-4b6e-9ff7-43baaa3acba6",
   "metadata": {},
   "outputs": [],
   "source": [
    "os.mkdir(\"./workspace\")"
   ]
  },
  {
   "cell_type": "code",
   "execution_count": 43,
   "id": "ab14893c-435f-4ee0-ab02-41ac6591db27",
   "metadata": {},
   "outputs": [],
   "source": [
    "os.chdir(\"/home/encore/workspace\")"
   ]
  },
  {
   "cell_type": "code",
   "execution_count": null,
   "id": "c4d642ce-62e7-4db2-8baa-8b30843d9250",
   "metadata": {},
   "outputs": [],
   "source": []
  }
 ],
 "metadata": {
  "kernelspec": {
   "display_name": "Python 3 (ipykernel)",
   "language": "python",
   "name": "python3"
  },
  "language_info": {
   "codemirror_mode": {
    "name": "ipython",
    "version": 3
   },
   "file_extension": ".py",
   "mimetype": "text/x-python",
   "name": "python",
   "nbconvert_exporter": "python",
   "pygments_lexer": "ipython3",
   "version": "3.10.15"
  }
 },
 "nbformat": 4,
 "nbformat_minor": 5
}
