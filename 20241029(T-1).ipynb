{
 "cells": [
  {
   "cell_type": "markdown",
   "id": "db766d15-86df-4d36-852a-33e6b33346b6",
   "metadata": {},
   "source": [
    "# 20241029\n",
    "## dict 정리 \n",
    "- key - values"
   ]
  },
  {
   "cell_type": "code",
   "execution_count": 3,
   "id": "f5772757-60b5-4272-b8de-1c9894e12f5a",
   "metadata": {},
   "outputs": [],
   "source": [
    "a = dict()\n",
    "b = {}"
   ]
  },
  {
   "cell_type": "code",
   "execution_count": 4,
   "id": "5eba848a-0b65-4b1c-8e7a-23b9e9787847",
   "metadata": {},
   "outputs": [
    {
     "data": {
      "text/plain": [
       "dict"
      ]
     },
     "execution_count": 4,
     "metadata": {},
     "output_type": "execute_result"
    }
   ],
   "source": [
    "type(b)"
   ]
  },
  {
   "cell_type": "code",
   "execution_count": 6,
   "id": "7b789db7-7a09-4719-a417-f77979c43e75",
   "metadata": {},
   "outputs": [],
   "source": [
    "c = {'a' : 1, 'b' : 2}"
   ]
  },
  {
   "cell_type": "code",
   "execution_count": 7,
   "id": "48cc279e-ce00-4f29-8f21-69fca0f8d2d9",
   "metadata": {
    "collapsed": true,
    "jupyter": {
     "outputs_hidden": true
    }
   },
   "outputs": [
    {
     "data": {
      "text/plain": [
       "['__class__',\n",
       " '__class_getitem__',\n",
       " '__contains__',\n",
       " '__delattr__',\n",
       " '__delitem__',\n",
       " '__dir__',\n",
       " '__doc__',\n",
       " '__eq__',\n",
       " '__format__',\n",
       " '__ge__',\n",
       " '__getattribute__',\n",
       " '__getitem__',\n",
       " '__gt__',\n",
       " '__hash__',\n",
       " '__init__',\n",
       " '__init_subclass__',\n",
       " '__ior__',\n",
       " '__iter__',\n",
       " '__le__',\n",
       " '__len__',\n",
       " '__lt__',\n",
       " '__ne__',\n",
       " '__new__',\n",
       " '__or__',\n",
       " '__reduce__',\n",
       " '__reduce_ex__',\n",
       " '__repr__',\n",
       " '__reversed__',\n",
       " '__ror__',\n",
       " '__setattr__',\n",
       " '__setitem__',\n",
       " '__sizeof__',\n",
       " '__str__',\n",
       " '__subclasshook__',\n",
       " 'clear',\n",
       " 'copy',\n",
       " 'fromkeys',\n",
       " 'get',\n",
       " 'items',\n",
       " 'keys',\n",
       " 'pop',\n",
       " 'popitem',\n",
       " 'setdefault',\n",
       " 'update',\n",
       " 'values']"
      ]
     },
     "execution_count": 7,
     "metadata": {},
     "output_type": "execute_result"
    }
   ],
   "source": [
    "dir(c)"
   ]
  },
  {
   "cell_type": "code",
   "execution_count": null,
   "id": "84c71945-4c23-4129-9cd5-d047c6a46427",
   "metadata": {},
   "outputs": [],
   "source": [
    "번호뒷자리 % 25"
   ]
  },
  {
   "cell_type": "code",
   "execution_count": 8,
   "id": "65a8195e-d9a7-4412-8df4-3010bad7af7e",
   "metadata": {},
   "outputs": [
    {
     "data": {
      "text/plain": [
       "7"
      ]
     },
     "execution_count": 8,
     "metadata": {},
     "output_type": "execute_result"
    }
   ],
   "source": [
    "2357 % 25"
   ]
  },
  {
   "cell_type": "code",
   "execution_count": 11,
   "id": "5c5055f0-d554-4464-8372-7abd77ea8999",
   "metadata": {},
   "outputs": [
    {
     "data": {
      "text/plain": [
       "1"
      ]
     },
     "execution_count": 11,
     "metadata": {},
     "output_type": "execute_result"
    }
   ],
   "source": [
    "c['a']"
   ]
  },
  {
   "cell_type": "code",
   "execution_count": 12,
   "id": "cda28334-2df1-4d5d-a427-444e508ac718",
   "metadata": {},
   "outputs": [
    {
     "data": {
      "text/plain": [
       "{'a': 1, 'b': 2}"
      ]
     },
     "execution_count": 12,
     "metadata": {},
     "output_type": "execute_result"
    }
   ],
   "source": [
    "c"
   ]
  },
  {
   "cell_type": "markdown",
   "id": "a177e786-b75c-48da-9a4e-975ce8a6ab50",
   "metadata": {},
   "source": [
    "- 예외처리 "
   ]
  },
  {
   "cell_type": "code",
   "execution_count": 40,
   "id": "6c4d4d12-520f-4e17-994b-8a0a7fe482b4",
   "metadata": {},
   "outputs": [
    {
     "name": "stdout",
     "output_type": "stream",
     "text": [
      "HI\n"
     ]
    }
   ],
   "source": [
    "try:\n",
    "    c['d']\n",
    "except:\n",
    "    c['d']  = 10 \n",
    "print(\"HI\")"
   ]
  },
  {
   "cell_type": "code",
   "execution_count": 18,
   "id": "d19c3259-6a42-4be0-8266-54485ab69c15",
   "metadata": {},
   "outputs": [
    {
     "data": {
      "text/plain": [
       "10"
      ]
     },
     "execution_count": 18,
     "metadata": {},
     "output_type": "execute_result"
    }
   ],
   "source": [
    "c['d']"
   ]
  },
  {
   "cell_type": "code",
   "execution_count": 20,
   "id": "90662f37-7ed0-4912-8153-f5ac1ea66865",
   "metadata": {},
   "outputs": [],
   "source": [
    "c['a'] = 100"
   ]
  },
  {
   "cell_type": "code",
   "execution_count": 21,
   "id": "d0457dba-efd4-4853-b069-5dffbffe1e66",
   "metadata": {},
   "outputs": [
    {
     "data": {
      "text/plain": [
       "100"
      ]
     },
     "execution_count": 21,
     "metadata": {},
     "output_type": "execute_result"
    }
   ],
   "source": [
    "c['a']"
   ]
  },
  {
   "cell_type": "code",
   "execution_count": 6,
   "id": "fd6ed25f-a548-41a5-bfdb-deb6f720cc60",
   "metadata": {},
   "outputs": [],
   "source": [
    "url = \"https://www.melon.com/song/detail.htm?songId=38120327\"\n",
    "\n",
    "import requests\n",
    "\n",
    "head = {\"user-agent\":\n",
    "\"Mozilla/5.0 (Windows NT 10.0; Win64; x64) AppleWebKit/537.36 (KHTML, like Gecko) Chrome/130.0.0.0 Safari/537.36\"}\n",
    "\n",
    "r = requests.get(url, headers=head)\n",
    "\n",
    "from bs4 import BeautifulSoup\n",
    "\n",
    "bs = BeautifulSoup(r.text).find(\"div\", id= \"d_video_summary\")\n",
    "\n",
    "text = bs.text"
   ]
  },
  {
   "cell_type": "code",
   "execution_count": 3,
   "id": "5f41199e-f585-40e5-974e-25d804b21101",
   "metadata": {},
   "outputs": [
    {
     "data": {
      "text/plain": [
       "\"아파트 아파트 아파트 아파트 아파트 아파트 Uh, uh huh uh huh 아파트 아파트 아파트 아파트 아파트 아파트 Uh, uh huh uh huh Kissy face, kissy face Sent to your phone but, I'm trying to kiss your lips for real Red hearts, red hearts That’s what I’m on yeah Come give me something I can feel Oh oh oh Don't you want me like I want you, baby Don't you need me like I need you now Sleep tomorrow but tonight go crazy All you gotta do is just meet me at the 아파트 아파트 아파트 아파트 아파트 아파트 Uh, uh huh uh huh 아파트 아파트 아파트 아파트 \\t아파트 아파트Uh, uh huh uh huh It’s whatever it’s whatever it’s whatever you like  Turn this 아파트 into a club I’m talking drink, dance, smoke, freak, party all night 건배 건배 girl what’s up Oh oh oh Don't you want me like I want you, baby Don't you need me like I need you now Sleep tomorrow but tonight go crazy All you gotta do is just meet me at the 아파트 아파트 아파트 아파트 아파트 아파트 Uh, uh huh uh huh 아파트 아파트 아파트 아파트 아파트 아파트 Uh, uh huh uh huh Hey so now you know the game Are you ready? Cause I’m comin to get ya Get ya, get ya Hold on, hold on I’m on my way Yeah yeah yeah yeah yeah I’m on my way Hold on, hold onI’m on my way Yeah yeah yeah yeah yeah I’m on my way Don't you want me like I want you, baby Don't you need me like I need you now Sleep tomorrow but tonight go crazy All you gotta do is just meet me at the 아파트 아파트 아파트 아파트 아파트 아파트 Just meet me at the (Uh huh uh huh) 아파트 아파트 아파트 아파트 아파트 아파트 Just meet me at the (Uh huh uh huh) 아파트 아파트 아파트 아파트 아파트 아파트 Just meet me at the (Uh huh uh huh) 아파트 아파트 아파트 아파트 아파트 아파트 Uh, uh huh uh huh\""
      ]
     },
     "execution_count": 3,
     "metadata": {},
     "output_type": "execute_result"
    }
   ],
   "source": [
    "text.strip()"
   ]
  },
  {
   "cell_type": "code",
   "execution_count": 42,
   "id": "1af709df-3c2f-4e82-833d-3754d67c6f21",
   "metadata": {},
   "outputs": [
    {
     "data": {
      "text/plain": [
       "61"
      ]
     },
     "execution_count": 42,
     "metadata": {},
     "output_type": "execute_result"
    }
   ],
   "source": [
    "text.strip().count(\"아파트\")"
   ]
  },
  {
   "cell_type": "code",
   "execution_count": 7,
   "id": "6c98b1a4-2072-4350-b8a6-81e4ece407ea",
   "metadata": {},
   "outputs": [],
   "source": [
    "text = text.strip().lower().replace(\",\", \"\").split()"
   ]
  },
  {
   "cell_type": "code",
   "execution_count": 8,
   "id": "1eb4712a-a811-48bf-ad77-faa8d37e7cdc",
   "metadata": {},
   "outputs": [
    {
     "data": {
      "text/plain": [
       "['아파트',\n",
       " '아파트',\n",
       " '아파트',\n",
       " '아파트',\n",
       " '아파트',\n",
       " '아파트',\n",
       " 'uh',\n",
       " 'uh',\n",
       " 'huh',\n",
       " 'uh',\n",
       " 'huh',\n",
       " '아파트',\n",
       " '아파트',\n",
       " '아파트',\n",
       " '아파트',\n",
       " '아파트',\n",
       " '아파트',\n",
       " 'uh',\n",
       " 'uh',\n",
       " 'huh',\n",
       " 'uh',\n",
       " 'huh',\n",
       " 'kissy',\n",
       " 'face',\n",
       " 'kissy',\n",
       " 'face',\n",
       " 'sent',\n",
       " 'to',\n",
       " 'your',\n",
       " 'phone',\n",
       " 'but',\n",
       " \"i'm\",\n",
       " 'trying',\n",
       " 'to',\n",
       " 'kiss',\n",
       " 'your',\n",
       " 'lips',\n",
       " 'for',\n",
       " 'real',\n",
       " 'red',\n",
       " 'hearts',\n",
       " 'red',\n",
       " 'hearts',\n",
       " 'that’s',\n",
       " 'what',\n",
       " 'i’m',\n",
       " 'on',\n",
       " 'yeah',\n",
       " 'come',\n",
       " 'give',\n",
       " 'me',\n",
       " 'something',\n",
       " 'i',\n",
       " 'can',\n",
       " 'feel',\n",
       " 'oh',\n",
       " 'oh',\n",
       " 'oh',\n",
       " \"don't\",\n",
       " 'you',\n",
       " 'want',\n",
       " 'me',\n",
       " 'like',\n",
       " 'i',\n",
       " 'want',\n",
       " 'you',\n",
       " 'baby',\n",
       " \"don't\",\n",
       " 'you',\n",
       " 'need',\n",
       " 'me',\n",
       " 'like',\n",
       " 'i',\n",
       " 'need',\n",
       " 'you',\n",
       " 'now',\n",
       " 'sleep',\n",
       " 'tomorrow',\n",
       " 'but',\n",
       " 'tonight',\n",
       " 'go',\n",
       " 'crazy',\n",
       " 'all',\n",
       " 'you',\n",
       " 'gotta',\n",
       " 'do',\n",
       " 'is',\n",
       " 'just',\n",
       " 'meet',\n",
       " 'me',\n",
       " 'at',\n",
       " 'the',\n",
       " '아파트',\n",
       " '아파트',\n",
       " '아파트',\n",
       " '아파트',\n",
       " '아파트',\n",
       " '아파트',\n",
       " 'uh',\n",
       " 'uh',\n",
       " 'huh',\n",
       " 'uh',\n",
       " 'huh',\n",
       " '아파트',\n",
       " '아파트',\n",
       " '아파트',\n",
       " '아파트',\n",
       " '아파트',\n",
       " '아파트uh',\n",
       " 'uh',\n",
       " 'huh',\n",
       " 'uh',\n",
       " 'huh',\n",
       " 'it’s',\n",
       " 'whatever',\n",
       " 'it’s',\n",
       " 'whatever',\n",
       " 'it’s',\n",
       " 'whatever',\n",
       " 'you',\n",
       " 'like',\n",
       " 'turn',\n",
       " 'this',\n",
       " '아파트',\n",
       " 'into',\n",
       " 'a',\n",
       " 'club',\n",
       " 'i’m',\n",
       " 'talking',\n",
       " 'drink',\n",
       " 'dance',\n",
       " 'smoke',\n",
       " 'freak',\n",
       " 'party',\n",
       " 'all',\n",
       " 'night',\n",
       " '건배',\n",
       " '건배',\n",
       " 'girl',\n",
       " 'what’s',\n",
       " 'up',\n",
       " 'oh',\n",
       " 'oh',\n",
       " 'oh',\n",
       " \"don't\",\n",
       " 'you',\n",
       " 'want',\n",
       " 'me',\n",
       " 'like',\n",
       " 'i',\n",
       " 'want',\n",
       " 'you',\n",
       " 'baby',\n",
       " \"don't\",\n",
       " 'you',\n",
       " 'need',\n",
       " 'me',\n",
       " 'like',\n",
       " 'i',\n",
       " 'need',\n",
       " 'you',\n",
       " 'now',\n",
       " 'sleep',\n",
       " 'tomorrow',\n",
       " 'but',\n",
       " 'tonight',\n",
       " 'go',\n",
       " 'crazy',\n",
       " 'all',\n",
       " 'you',\n",
       " 'gotta',\n",
       " 'do',\n",
       " 'is',\n",
       " 'just',\n",
       " 'meet',\n",
       " 'me',\n",
       " 'at',\n",
       " 'the',\n",
       " '아파트',\n",
       " '아파트',\n",
       " '아파트',\n",
       " '아파트',\n",
       " '아파트',\n",
       " '아파트',\n",
       " 'uh',\n",
       " 'uh',\n",
       " 'huh',\n",
       " 'uh',\n",
       " 'huh',\n",
       " '아파트',\n",
       " '아파트',\n",
       " '아파트',\n",
       " '아파트',\n",
       " '아파트',\n",
       " '아파트',\n",
       " 'uh',\n",
       " 'uh',\n",
       " 'huh',\n",
       " 'uh',\n",
       " 'huh',\n",
       " 'hey',\n",
       " 'so',\n",
       " 'now',\n",
       " 'you',\n",
       " 'know',\n",
       " 'the',\n",
       " 'game',\n",
       " 'are',\n",
       " 'you',\n",
       " 'ready?',\n",
       " 'cause',\n",
       " 'i’m',\n",
       " 'comin',\n",
       " 'to',\n",
       " 'get',\n",
       " 'ya',\n",
       " 'get',\n",
       " 'ya',\n",
       " 'get',\n",
       " 'ya',\n",
       " 'hold',\n",
       " 'on',\n",
       " 'hold',\n",
       " 'on',\n",
       " 'i’m',\n",
       " 'on',\n",
       " 'my',\n",
       " 'way',\n",
       " 'yeah',\n",
       " 'yeah',\n",
       " 'yeah',\n",
       " 'yeah',\n",
       " 'yeah',\n",
       " 'i’m',\n",
       " 'on',\n",
       " 'my',\n",
       " 'way',\n",
       " 'hold',\n",
       " 'on',\n",
       " 'hold',\n",
       " 'oni’m',\n",
       " 'on',\n",
       " 'my',\n",
       " 'way',\n",
       " 'yeah',\n",
       " 'yeah',\n",
       " 'yeah',\n",
       " 'yeah',\n",
       " 'yeah',\n",
       " 'i’m',\n",
       " 'on',\n",
       " 'my',\n",
       " 'way',\n",
       " \"don't\",\n",
       " 'you',\n",
       " 'want',\n",
       " 'me',\n",
       " 'like',\n",
       " 'i',\n",
       " 'want',\n",
       " 'you',\n",
       " 'baby',\n",
       " \"don't\",\n",
       " 'you',\n",
       " 'need',\n",
       " 'me',\n",
       " 'like',\n",
       " 'i',\n",
       " 'need',\n",
       " 'you',\n",
       " 'now',\n",
       " 'sleep',\n",
       " 'tomorrow',\n",
       " 'but',\n",
       " 'tonight',\n",
       " 'go',\n",
       " 'crazy',\n",
       " 'all',\n",
       " 'you',\n",
       " 'gotta',\n",
       " 'do',\n",
       " 'is',\n",
       " 'just',\n",
       " 'meet',\n",
       " 'me',\n",
       " 'at',\n",
       " 'the',\n",
       " '아파트',\n",
       " '아파트',\n",
       " '아파트',\n",
       " '아파트',\n",
       " '아파트',\n",
       " '아파트',\n",
       " 'just',\n",
       " 'meet',\n",
       " 'me',\n",
       " 'at',\n",
       " 'the',\n",
       " '(uh',\n",
       " 'huh',\n",
       " 'uh',\n",
       " 'huh)',\n",
       " '아파트',\n",
       " '아파트',\n",
       " '아파트',\n",
       " '아파트',\n",
       " '아파트',\n",
       " '아파트',\n",
       " 'just',\n",
       " 'meet',\n",
       " 'me',\n",
       " 'at',\n",
       " 'the',\n",
       " '(uh',\n",
       " 'huh',\n",
       " 'uh',\n",
       " 'huh)',\n",
       " '아파트',\n",
       " '아파트',\n",
       " '아파트',\n",
       " '아파트',\n",
       " '아파트',\n",
       " '아파트',\n",
       " 'just',\n",
       " 'meet',\n",
       " 'me',\n",
       " 'at',\n",
       " 'the',\n",
       " '(uh',\n",
       " 'huh',\n",
       " 'uh',\n",
       " 'huh)',\n",
       " '아파트',\n",
       " '아파트',\n",
       " '아파트',\n",
       " '아파트',\n",
       " '아파트',\n",
       " '아파트',\n",
       " 'uh',\n",
       " 'uh',\n",
       " 'huh',\n",
       " 'uh',\n",
       " 'huh']"
      ]
     },
     "execution_count": 8,
     "metadata": {},
     "output_type": "execute_result"
    }
   ],
   "source": [
    "text"
   ]
  },
  {
   "cell_type": "code",
   "execution_count": 56,
   "id": "fc8a0ea9-1394-4ef6-b002-e63ddb4afc5d",
   "metadata": {},
   "outputs": [
    {
     "data": {
      "text/plain": [
       "['huh', 'uh', 'huh']"
      ]
     },
     "execution_count": 56,
     "metadata": {},
     "output_type": "execute_result"
    }
   ],
   "source": [
    "text[-3:]"
   ]
  },
  {
   "cell_type": "code",
   "execution_count": 57,
   "id": "5633bd20-a62b-4723-a12f-9503718c1bfb",
   "metadata": {
    "scrolled": true
   },
   "outputs": [],
   "source": [
    "wordcnt = {}\n",
    "for word in text:\n",
    "    try:\n",
    "        #wordcnt[word] = wordcnt[word] + 1\n",
    "        wordcnt[word] += 1\n",
    "    except:\n",
    "        wordcnt[word] = 1"
   ]
  },
  {
   "cell_type": "code",
   "execution_count": 58,
   "id": "9c1d76db-a325-41c1-8344-7005b600da8e",
   "metadata": {
    "scrolled": true
   },
   "outputs": [
    {
     "data": {
      "text/plain": [
       "{'아파트': 60,\n",
       " 'uh': 23,\n",
       " 'huh': 17,\n",
       " 'kissy': 2,\n",
       " 'face': 2,\n",
       " 'sent': 1,\n",
       " 'to': 3,\n",
       " 'your': 2,\n",
       " 'phone': 1,\n",
       " 'but': 4,\n",
       " \"i'm\": 1,\n",
       " 'trying': 1,\n",
       " 'kiss': 1,\n",
       " 'lips': 1,\n",
       " 'for': 1,\n",
       " 'real': 1,\n",
       " 'red': 2,\n",
       " 'hearts': 2,\n",
       " 'that’s': 1,\n",
       " 'what': 1,\n",
       " 'i’m': 6,\n",
       " 'on': 8,\n",
       " 'yeah': 11,\n",
       " 'come': 1,\n",
       " 'give': 1,\n",
       " 'me': 13,\n",
       " 'something': 1,\n",
       " 'i': 7,\n",
       " 'can': 1,\n",
       " 'feel': 1,\n",
       " 'oh': 6,\n",
       " \"don't\": 6,\n",
       " 'you': 18,\n",
       " 'want': 6,\n",
       " 'like': 7,\n",
       " 'baby': 3,\n",
       " 'need': 6,\n",
       " 'now': 4,\n",
       " 'sleep': 3,\n",
       " 'tomorrow': 3,\n",
       " 'tonight': 3,\n",
       " 'go': 3,\n",
       " 'crazy': 3,\n",
       " 'all': 4,\n",
       " 'gotta': 3,\n",
       " 'do': 3,\n",
       " 'is': 3,\n",
       " 'just': 6,\n",
       " 'meet': 6,\n",
       " 'at': 6,\n",
       " 'the': 7,\n",
       " '아파트uh': 1,\n",
       " 'it’s': 3,\n",
       " 'whatever': 3,\n",
       " 'turn': 1,\n",
       " 'this': 1,\n",
       " 'into': 1,\n",
       " 'a': 1,\n",
       " 'club': 1,\n",
       " 'talking': 1,\n",
       " 'drink': 1,\n",
       " 'dance': 1,\n",
       " 'smoke': 1,\n",
       " 'freak': 1,\n",
       " 'party': 1,\n",
       " 'night': 1,\n",
       " '건배': 2,\n",
       " 'girl': 1,\n",
       " 'what’s': 1,\n",
       " 'up': 1,\n",
       " 'hey': 1,\n",
       " 'so': 1,\n",
       " 'know': 1,\n",
       " 'game': 1,\n",
       " 'are': 1,\n",
       " 'ready?': 1,\n",
       " 'cause': 1,\n",
       " 'comin': 1,\n",
       " 'get': 3,\n",
       " 'ya': 3,\n",
       " 'hold': 4,\n",
       " 'my': 4,\n",
       " 'way': 4,\n",
       " 'oni’m': 1,\n",
       " '(uh': 3,\n",
       " 'huh)': 3}"
      ]
     },
     "execution_count": 58,
     "metadata": {},
     "output_type": "execute_result"
    }
   ],
   "source": [
    "wordcnt"
   ]
  },
  {
   "cell_type": "code",
   "execution_count": 9,
   "id": "e405796f-ed7b-446d-b615-1150de89fa45",
   "metadata": {},
   "outputs": [],
   "source": [
    "import requests \n",
    "\n",
    "payload ={\"in_biz_cds\": \"0\",\n",
    "\"in_scodes\": \"0\",\n",
    "\"ins_lat\": \"37.4734848\",\n",
    "\"ins_lng\": \"126.877696\",\n",
    "\"search_text\": \"\",\n",
    "\"p_sido_cd\": \"01\",\n",
    "\"p_gugun_cd\": \"\",\n",
    "\"in_distance\": \"0\",\n",
    "\"in_biz_cd\": \"\",\n",
    "\"isError\": \"true\",\n",
    "\"searchType\": \"C\",\n",
    "\"set_date\": \"\",\n",
    "\"all_store\": \"0\",\n",
    "\"T03\": \"0\",\n",
    "\"T01\": \"0\",\n",
    "\"T27\": \"0\",\n",
    "\"T12\": \"0\",\n",
    "\"T09\": \"0\",\n",
    "\"T30\": \"0\",\n",
    "\"T05\": \"0\",\n",
    "\"T22\": \"0\",\n",
    "\"T21\": \"0\",\n",
    "\"T36\": \"0\",\n",
    "\"T43\": \"0\",\n",
    "\"Z9999\": \"0\",\n",
    "\"P02\": \"0\",\n",
    "\"P10\": \"0\",\n",
    "\"P50\": \"0\",\n",
    "\"P20\": \"0\",\n",
    "\"P60\": \"0\",\n",
    "\"P30\": \"0\",\n",
    "\"P70\": \"0\",\n",
    "\"P40\": \"0\",\n",
    "\"P80\": \"0\",\n",
    "\"whcroad_yn\": \"0\",\n",
    "\"P90\": \"0\",\n",
    "\"P01\": \"0\",\n",
    "\"new_bool\": \"0\",\n",
    "\"iend\": \"1000\",\n",
    "\"rndCod\": \"L5B8GIPWSU\",}\n",
    "\n",
    "url = \"https://www.starbucks.co.kr/store/getStore.do?r=38OS7D4WXV\"\n",
    "\n",
    "r = requests.post(url, data=payload)\n",
    "\n",
    "data = r.json()['list']\n"
   ]
  },
  {
   "cell_type": "code",
   "execution_count": 11,
   "id": "0a1340d6-8d28-4a11-939c-838be0ecf9c6",
   "metadata": {
    "scrolled": true
   },
   "outputs": [],
   "source": [
    "cnt = dict()\n",
    "for x in data:\n",
    "    try:\n",
    "        cnt[x['gugun_name']] += 1\n",
    "    except:\n",
    "        cnt[x['gugun_name']] = 1"
   ]
  },
  {
   "cell_type": "code",
   "execution_count": 12,
   "id": "d0da3b44-2484-45eb-a6fb-666e87e7d954",
   "metadata": {},
   "outputs": [
    {
     "data": {
      "text/plain": [
       "{'강남구': 93,\n",
       " '강북구': 7,\n",
       " '강서구': 28,\n",
       " '관악구': 12,\n",
       " '광진구': 19,\n",
       " '금천구': 15,\n",
       " '노원구': 15,\n",
       " '도봉구': 7,\n",
       " '동작구': 11,\n",
       " '마포구': 37,\n",
       " '서대문구': 21,\n",
       " '서초구': 50,\n",
       " '성북구': 16,\n",
       " '송파구': 37,\n",
       " '양천구': 17,\n",
       " '영등포구': 41,\n",
       " '은평구': 14,\n",
       " '종로구': 39,\n",
       " '중구': 52,\n",
       " '강동구': 18,\n",
       " '구로구': 14,\n",
       " '동대문구': 13,\n",
       " '성동구': 14,\n",
       " '용산구': 24,\n",
       " '중랑구': 8}"
      ]
     },
     "execution_count": 12,
     "metadata": {},
     "output_type": "execute_result"
    }
   ],
   "source": [
    "cnt"
   ]
  },
  {
   "cell_type": "code",
   "execution_count": 69,
   "id": "cb4fb56c-097b-4647-b886-fc91d1845118",
   "metadata": {},
   "outputs": [
    {
     "data": {
      "text/plain": [
       "[33, 11, 11, 11, 3, 3, 2, 1]"
      ]
     },
     "execution_count": 69,
     "metadata": {},
     "output_type": "execute_result"
    }
   ],
   "source": [
    "sorted([1,2,3,33,3,11,11,11], reverse=True)"
   ]
  },
  {
   "cell_type": "code",
   "execution_count": 76,
   "id": "ced72932-0fa1-4143-a41d-44d414418f2c",
   "metadata": {},
   "outputs": [
    {
     "data": {
      "text/plain": [
       "[('강남구', 93),\n",
       " ('중구', 52),\n",
       " ('서초구', 50),\n",
       " ('영등포구', 41),\n",
       " ('종로구', 39),\n",
       " ('마포구', 37),\n",
       " ('송파구', 37),\n",
       " ('강서구', 28),\n",
       " ('용산구', 24),\n",
       " ('서대문구', 21),\n",
       " ('광진구', 19),\n",
       " ('강동구', 18),\n",
       " ('양천구', 17),\n",
       " ('성북구', 16),\n",
       " ('금천구', 15),\n",
       " ('노원구', 15),\n",
       " ('은평구', 14),\n",
       " ('구로구', 14),\n",
       " ('성동구', 14),\n",
       " ('동대문구', 13),\n",
       " ('관악구', 12),\n",
       " ('동작구', 11),\n",
       " ('중랑구', 8),\n",
       " ('강북구', 7),\n",
       " ('도봉구', 7)]"
      ]
     },
     "execution_count": 76,
     "metadata": {},
     "output_type": "execute_result"
    }
   ],
   "source": [
    "sorted(cnt.items(), key=lambda x: x[1], reverse=True)"
   ]
  },
  {
   "cell_type": "code",
   "execution_count": 77,
   "id": "d363ef15-29ae-495f-b81e-45c2645b75d7",
   "metadata": {},
   "outputs": [],
   "source": [
    "import datetime"
   ]
  },
  {
   "cell_type": "code",
   "execution_count": 89,
   "id": "bcd78219-497b-4863-abcb-b0889defbd07",
   "metadata": {},
   "outputs": [],
   "source": [
    "rt = datetime.datetime.strptime(\"2024-10-27\", \"%Y-%m-%d\")"
   ]
  },
  {
   "cell_type": "code",
   "execution_count": 90,
   "id": "e547fe8b-3a33-4f10-84a0-190b151871a0",
   "metadata": {},
   "outputs": [
    {
     "data": {
      "text/plain": [
       "6"
      ]
     },
     "execution_count": 90,
     "metadata": {},
     "output_type": "execute_result"
    }
   ],
   "source": [
    "rt.weekday()"
   ]
  },
  {
   "cell_type": "code",
   "execution_count": null,
   "id": "cf950e01-9f86-472a-a88f-654d3fc972c2",
   "metadata": {},
   "outputs": [],
   "source": []
  },
  {
   "cell_type": "code",
   "execution_count": null,
   "id": "4c0400c6-2f08-459a-ab75-97485835736f",
   "metadata": {},
   "outputs": [],
   "source": []
  }
 ],
 "metadata": {
  "kernelspec": {
   "display_name": "Python 3 (ipykernel)",
   "language": "python",
   "name": "python3"
  },
  "language_info": {
   "codemirror_mode": {
    "name": "ipython",
    "version": 3
   },
   "file_extension": ".py",
   "mimetype": "text/x-python",
   "name": "python",
   "nbconvert_exporter": "python",
   "pygments_lexer": "ipython3",
   "version": "3.10.15"
  }
 },
 "nbformat": 4,
 "nbformat_minor": 5
}
