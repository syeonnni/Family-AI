{
 "cells": [
  {
   "cell_type": "code",
   "execution_count": 2,
   "id": "b0b2962b-e13d-4656-8bf2-f1df98c8d1eb",
   "metadata": {},
   "outputs": [],
   "source": [
    "import requests"
   ]
  },
  {
   "cell_type": "code",
   "execution_count": 3,
   "id": "ab549bc5-3398-4500-bf4d-6586755ecb0a",
   "metadata": {},
   "outputs": [],
   "source": [
    "url = \"https://n.news.naver.com/mnews/article/008/0005107386\""
   ]
  },
  {
   "cell_type": "code",
   "execution_count": 4,
   "id": "86ab6cf1-b1cc-4f76-ab21-091053ca0e9d",
   "metadata": {},
   "outputs": [],
   "source": [
    "r = requests.get(url)"
   ]
  },
  {
   "cell_type": "code",
   "execution_count": 10,
   "id": "a48d545a-62be-4a11-95ae-871a173e53ea",
   "metadata": {},
   "outputs": [
    {
     "data": {
      "text/plain": [
       "'newsct_article\" class=\"newsct_article _article_body\">\\n\\t\\t<article id=\"dic_area\" class=\"go_trans _article_content\">\\n\\t\\t\\t<strong class=\"media_end_summary\">USB-A 포트 삭제…전원버튼 밑면으로</strong><span class=\"end_photo_org\"><div class=\"nbd_im_w _LAZY_LOADING_WRAP \">\\n\\t<div class=\"nbd_a _LAZY_LOADING_ERROR_HIDE\" id=\"img_a1\">\\n\\t\\t<img id=\"img1\" data-src=\"https://imgnews.pstatic.net/image/008/2024/10/30/0005107386_001_20241030094914303.jpg?type&#x3D;w860\" class=\"_LAZY_LOADING _LAZY_LOADING_INIT_HIDE\" alt=\"애플이 29일(현지시간) 공개한 데스크톱 &#x27;맥 미니&#x27; 신규모델의 앞면./사진제공&#x3D;애플\" style=\"display: none;\" />\\n\\t</div>\\n</div><em class=\"img_desc\">애플이 29일(현지시간) 공개한 데스크톱 \\'맥 미니\\' 신규모델'"
      ]
     },
     "execution_count": 10,
     "metadata": {},
     "output_type": "execute_result"
    }
   ],
   "source": [
    "r.text[29351:30000]"
   ]
  },
  {
   "cell_type": "code",
   "execution_count": 9,
   "id": "d0ab50c3-d9a2-41a5-ae64-f4497a028281",
   "metadata": {},
   "outputs": [
    {
     "data": {
      "text/plain": [
       "29351"
      ]
     },
     "execution_count": 9,
     "metadata": {},
     "output_type": "execute_result"
    }
   ],
   "source": [
    "r.text.find(\"newsct_article\")"
   ]
  },
  {
   "cell_type": "code",
   "execution_count": 8,
   "id": "b09bbd43-a280-44c1-85a6-b5acecb0da09",
   "metadata": {},
   "outputs": [],
   "source": [
    "from bs4 import BeautifulSoup"
   ]
  },
  {
   "cell_type": "code",
   "execution_count": 11,
   "id": "aa034a91-1382-4146-aff0-8d411e9914cb",
   "metadata": {},
   "outputs": [],
   "source": [
    "bs = BeautifulSoup(r.text)"
   ]
  },
  {
   "cell_type": "code",
   "execution_count": 23,
   "id": "a909394e-eea9-4796-80b6-1b8fa62a069b",
   "metadata": {},
   "outputs": [
    {
     "data": {
      "text/plain": [
       "'https://imgnews.pstatic.net/image/008/2024/10/30/0005107386_001_20241030094914303.jpg?type=w860'"
      ]
     },
     "execution_count": 23,
     "metadata": {},
     "output_type": "execute_result"
    }
   ],
   "source": [
    "bs.find(\"div\", id=\"newsct_article\").find(\"img\")['data-src']"
   ]
  },
  {
   "cell_type": "code",
   "execution_count": 25,
   "id": "2e11018b-be18-4bfe-873d-45cce31bd512",
   "metadata": {},
   "outputs": [
    {
     "data": {
      "text/plain": [
       "\"애플이 29일(현지시간) 공개한 데스크톱 '맥 미니' 신규모델의 앞면./사진제공=애플\""
      ]
     },
     "execution_count": 25,
     "metadata": {},
     "output_type": "execute_result"
    }
   ],
   "source": [
    "bs.find(\"div\", id=\"newsct_article\").find(\"img\")['alt']"
   ]
  },
  {
   "cell_type": "code",
   "execution_count": 32,
   "id": "19f519cb-1e45-4e87-a2e6-7b13c20a47c8",
   "metadata": {},
   "outputs": [],
   "source": [
    "with open(\"./article.txt\", \"w\", encoding='utf-8') as f:\n",
    "    f.write(bs.find(\"div\", id=\"newsct_article\").text.strip())"
   ]
  },
  {
   "cell_type": "code",
   "execution_count": null,
   "id": "cd4bfc75-a9b0-4b7b-ac00-59b4cb213d9a",
   "metadata": {},
   "outputs": [],
   "source": []
  },
  {
   "cell_type": "code",
   "execution_count": 33,
   "id": "a70b9dbc-0bb8-4521-988e-a06fa488a358",
   "metadata": {},
   "outputs": [],
   "source": [
    "url = \"https://n.news.naver.com/mnews/article/031/0000880922\""
   ]
  },
  {
   "cell_type": "code",
   "execution_count": 34,
   "id": "8b906538-30b2-4357-b4a4-09787efaa581",
   "metadata": {},
   "outputs": [],
   "source": [
    "r = requests.get(url)"
   ]
  },
  {
   "cell_type": "code",
   "execution_count": 35,
   "id": "46e28cb1-3c87-4ea8-944d-58c6417432c5",
   "metadata": {},
   "outputs": [],
   "source": [
    "bs = BeautifulSoup(r.text)"
   ]
  },
  {
   "cell_type": "code",
   "execution_count": 36,
   "id": "91694e1e-ccfe-4a1f-95a7-ea673495ae00",
   "metadata": {},
   "outputs": [
    {
     "data": {
      "text/plain": [
       "'\\n\\n\"신규 도입 기능들 긍정 반응…개인 맞춤형 서비스 고도화\"티맵모빌리티는 지난 9월 출시한 인공지능(AI) 기반 장소 추천 서비스 \\'어디갈까\\'의 누적 이용자가 507만명을 넘어섰다고 31일 밝혔다.\\n\\n\\n\\n[사진=티맵모빌리티]티맵모빌리티에 따르면 이 서비스는 단순한 장소 추천을 넘어 이용자 주행 데이터를 기반으로 근거리 뿐 아니라 원거리 장소와 향후 이동 경로까지 제안한다.이용자가 실제로 방문한 장소만 후기(리뷰)를 작성할 수 있도록 \\'주행 인증 리뷰\\' 시스템이나 사업주가 직접 매장 정보를 관리할 수 있는 \\'비즈플레이스\\' 등 새로 도입한 기능에 대한 반응이 좋았던 것으로 전해진다.티맵모빌리티는 장소별 세부 정보 확인, 후기·사진 등록 등 플랫폼 내 이용자 활동성은 기존 대비 5배 가량 증가했다고 밝혔다. 사업주가 \\'비즈플레이스\\'를 통해 관리한 장소의 경우에는 사업주가 관리하지 않는 장소 대비 최대 6배까지 방문자가 많은 것으로 나타났다.오는 11월 첫째 주부터는 티맵 애플리케이션(앱) 내 \\'전체\\' 탭을 \\'마이(My)\\' 탭으로 개편해 한층 더 개인화된 경험을 제공한다. 이용자는 개성을 반영한 프로필 이미지를 등록하고 방문한 장소에 대한 후기를 보다 편리하게 작성할 수 있게 된다. 티맵 길 안내를 통해 방문한 장소를 일일이 검색할 필요 없이 최근 방문한 장소 목록을 통해 바로 후기를 남길 수 있는 기능도 추가된다. 작성한 후기에 다른 이용자가 남긴 반응도 실시간으로 확인할 수 있게 된다.전창근 티맵모빌리티 프로덕트 담당은 \"맛집, 카페, 관광지 등 다양한 장소를 더 쉽고 정확하게 찾을 수 있는 가치를 제공해 나갈 것\"이라며 \"새로 도입되는 \\'마이\\' 탭을 시작으로 연내 AI를 적용한 개인 맞춤형 서비스를 고도화해 이용자 경험을 확대할 것\"이라고 밝혔다.\\n\\n'"
      ]
     },
     "execution_count": 36,
     "metadata": {},
     "output_type": "execute_result"
    }
   ],
   "source": [
    "bs.find(\"div\", id=\"newsct_article\").text"
   ]
  },
  {
   "cell_type": "code",
   "execution_count": 37,
   "id": "a33227d4-423f-4160-89c0-b3bfdf3ecbd3",
   "metadata": {},
   "outputs": [
    {
     "data": {
      "text/plain": [
       "'/home/encore'"
      ]
     },
     "execution_count": 37,
     "metadata": {},
     "output_type": "execute_result"
    }
   ],
   "source": [
    "import os \n",
    "os.getcwd()"
   ]
  },
  {
   "cell_type": "code",
   "execution_count": 42,
   "id": "39b31482-170a-4b6e-9ff7-43baaa3acba6",
   "metadata": {},
   "outputs": [],
   "source": [
    "os.mkdir(\"./workspace\")"
   ]
  },
  {
   "cell_type": "code",
   "execution_count": 43,
   "id": "ab14893c-435f-4ee0-ab02-41ac6591db27",
   "metadata": {},
   "outputs": [],
   "source": [
    "os.chdir(\"/home/encore/workspace\")"
   ]
  },
  {
   "cell_type": "markdown",
   "id": "72131257-b746-4c68-83d6-7e4befd736fe",
   "metadata": {},
   "source": [
    "# melon\n",
    "## 100위까지 노래 id 가져오기"
   ]
  },
  {
   "cell_type": "code",
   "execution_count": 44,
   "id": "56f2eaca-eab9-4479-adfd-343080367df5",
   "metadata": {},
   "outputs": [],
   "source": [
    "melon_url =\"https://www.melon.com/chart/index.htm\""
   ]
  },
  {
   "cell_type": "code",
   "execution_count": 49,
   "id": "6e43c0e5-7738-455e-8095-6c03ddd9b1ca",
   "metadata": {},
   "outputs": [],
   "source": [
    "head = {\"user-agent\": \"Mozilla/5.0 (Windows NT 10.0; Win64; x64) AppleWebKit/537.36 (KHTML, like Gecko) Chrome/130.0.0.0 Safari/537.36\"}"
   ]
  },
  {
   "cell_type": "code",
   "execution_count": 50,
   "id": "51ca575c-ed1c-46ba-be83-4bca1b9b868e",
   "metadata": {},
   "outputs": [],
   "source": [
    "melon_r = requests.get(melon_url, headers=head)"
   ]
  },
  {
   "cell_type": "code",
   "execution_count": 52,
   "id": "7409e716-e0a1-4537-aa1e-af27343c45e3",
   "metadata": {},
   "outputs": [],
   "source": [
    "melon_bs = BeautifulSoup(melon_r.text)\n",
    "data1 = melon_bs.find(\"div\", class_=\"service_list_song type02 d_song_list\")"
   ]
  },
  {
   "cell_type": "code",
   "execution_count": 75,
   "id": "234e5134-4eb7-456b-990a-c9219f6109d3",
   "metadata": {},
   "outputs": [],
   "source": [
    "tmp = data1.findAll(\"div\", class_=\"wrap_song_info\")[0]"
   ]
  },
  {
   "cell_type": "code",
   "execution_count": 82,
   "id": "b30c495e-67e4-46a4-b931-a54f84a293bb",
   "metadata": {},
   "outputs": [
    {
     "data": {
      "text/plain": [
       "'38120327'"
      ]
     },
     "execution_count": 82,
     "metadata": {},
     "output_type": "execute_result"
    }
   ],
   "source": [
    "tmp.find(\"a\")['href'].split(\",\")[-1].split(\")\")[0]"
   ]
  },
  {
   "cell_type": "code",
   "execution_count": 85,
   "id": "1de01012-a9b3-41d3-aca9-ca6ee5094e3b",
   "metadata": {},
   "outputs": [
    {
     "data": {
      "text/plain": [
       "'APT.'"
      ]
     },
     "execution_count": 85,
     "metadata": {},
     "output_type": "execute_result"
    }
   ],
   "source": [
    "tmp.find(\"a\").text"
   ]
  },
  {
   "cell_type": "code",
   "execution_count": 86,
   "id": "5c68462e-2411-47a8-9f4d-723677410616",
   "metadata": {},
   "outputs": [
    {
     "name": "stdout",
     "output_type": "stream",
     "text": [
      "APT. 38120327\n",
      "Whiplash 38123332\n",
      "UP (KARINA Solo) 38077932\n",
      "Mantra 38087937\n",
      "HAPPY 37323944\n",
      "내 이름 맑음 38022274\n",
      "Welcome to the Show 37323943\n",
      "Supernova 37524037\n",
      "어떻게 이별까지 사랑하겠어, 널 사랑하는 거지 32061975\n",
      "한 페이지가 될 수 있게 31927275\n",
      "Supersonic 37884934\n",
      "내게 사랑이 뭐냐고 물어본다면 38104031\n",
      "소나기 37390939\n",
      "Pump Up The Volume! 37907939\n",
      "예뻤어 30232719\n",
      "사랑은 늘 도망가 34061322\n",
      "고민중독 37373234\n",
      "녹아내려요 37946921\n",
      "WAY 4 LUV 37248283\n",
      "How Sweet 37563682\n",
      "천상연 37228861\n",
      "Small girl (feat. 도경수(D.O.)) 37657039\n",
      "우리 영화 37248286\n",
      "클락션 (Klaxon) 37737619\n",
      "달랐을까 38092594\n",
      "우리들의 블루스 34908740\n",
      "LOVE, MONEY, FAME (feat. DJ Khaled) 38095946\n",
      "슬픈 초대장 37069064\n",
      "온기 37491072\n",
      "Home 37491071\n",
      "Sticky 37693124\n",
      "모래 알갱이 36502910\n",
      "나는 아픈 건 딱 질색이니까 37138469\n",
      "다시 만날 수 있을까 35008524\n",
      "From 37248285\n",
      "이제 나만 믿어요 32508053\n",
      "첫 만남은 계획대로 되지 않아 37140709\n",
      "Love wins all 37145732\n",
      "Watch Me Woo! 37248282\n",
      "Do or Die 36855841\n",
      "버추얼 아이돌 37248284\n",
      "Supernatural 37659322\n",
      "무지개 35008525\n",
      "Magnetic 37347911\n",
      "London Boy 35834583\n",
      "주저하는 연인들을 위해 31666417\n",
      "청춘만화 38071559\n",
      "Polaroid 35834584\n",
      "너의 모든 순간 4446485\n",
      "Armageddon 37524038\n",
      "Seven (feat. Latto) - Clean Ver. 36617841\n",
      "그대만 있다면 (여름날 우리 X 너드커넥션 (Nerd Connection)) 36699489\n",
      "인생찬가 35008534\n",
      "에피소드 37053556\n",
      "헤어지자 말해요 36382580\n",
      "연애편지 35008532\n",
      "Merry PLLIstmas 37248287\n",
      "비의 랩소디 37023625\n",
      "모든 날, 모든 순간 (Every day, Every Moment) 30962526\n",
      "파이팅 해야지 (Feat. 이영지) 36110996\n",
      "Cherish (My Love) 38123775\n",
      "Bubble Gum 37464459\n",
      "해야 (HEYA) 37463572\n",
      "SPOT! (feat. JENNIE) 37460832\n",
      "다정히 내 이름을 부르면 33496587\n",
      "Dynamite 32872978\n",
      "미안해 미워해 사랑해 37344905\n",
      "보금자리 35008530\n",
      "Hype Boy 35454426\n",
      "Drowning 36397952\n",
      "I AM 36356993\n",
      "봄날 30244931\n",
      "Boom Boom Bass 37640352\n",
      "별별별 (See that?) 37900204\n",
      "인사 34451383\n",
      "Congratulations 7844374\n",
      "Ditto 35945927\n",
      "취중고백 34431086\n",
      "사랑인가 봐 34657844\n",
      "청혼하지 않을 이유를 못 찾았어 37375706\n",
      "To. X 37003911\n",
      "Drama 36956630\n",
      "사건의 지평선 34819473\n",
      "I Don't Think That I Like Her 35640751\n",
      "ETA 36635522\n",
      "Love 119 37098744\n",
      "사막에서 꽃을 피우듯 36616378\n",
      "내가 S면 넌 나의 N이 되어줘 37667860\n",
      "플러팅 37820769\n",
      "Attention 35454425\n",
      "오래된 노래 37635628\n",
      "Get A Guitar 36717264\n",
      "MEOW 37973745\n",
      "I'll Be There 38145736\n",
      "MAESTRO 37462977\n",
      "CRAZY 37943763\n",
      "Super Shy 36599950\n",
      "나는 반딧불 38123338\n",
      "네모네모 38048464\n",
      "밤양갱 37194943\n"
     ]
    }
   ],
   "source": [
    "for x in data1.findAll(\"div\", class_=\"wrap_song_info\")[::2]:\n",
    "    print(x.find(\"a\").text, x.find(\"a\")['href'].split(\",\")[-1].split(\")\")[0])"
   ]
  }
 ],
 "metadata": {
  "kernelspec": {
   "display_name": "Python 3 (ipykernel)",
   "language": "python",
   "name": "python3"
  },
  "language_info": {
   "codemirror_mode": {
    "name": "ipython",
    "version": 3
   },
   "file_extension": ".py",
   "mimetype": "text/x-python",
   "name": "python",
   "nbconvert_exporter": "python",
   "pygments_lexer": "ipython3",
   "version": "3.10.15"
  }
 },
 "nbformat": 4,
 "nbformat_minor": 5
}
