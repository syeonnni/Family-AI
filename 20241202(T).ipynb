{
 "cells": [
  {
   "cell_type": "code",
   "execution_count": 1,
   "id": "f96b1a10-6271-4719-949d-0a5890b739c0",
   "metadata": {},
   "outputs": [],
   "source": [
    "import torch"
   ]
  },
  {
   "cell_type": "code",
   "execution_count": 3,
   "id": "7e668ec9-bccb-4694-a2fa-7551a63c4b0f",
   "metadata": {},
   "outputs": [
    {
     "data": {
      "text/html": [
       "<img src=\"https://raw.githubusercontent.com/rickiepark/ml-with-pytorch/main/ch13/figures/13_01.png\" width=\"400\"/>"
      ],
      "text/plain": [
       "<IPython.core.display.Image object>"
      ]
     },
     "execution_count": 3,
     "metadata": {},
     "output_type": "execute_result"
    }
   ],
   "source": [
    "from IPython.display import Image\n",
    "%matplotlib inline\n",
    "Image(url='https://raw.githubusercontent.com/rickiepark/ml-with-pytorch/main/ch13/figures/13_01.png', width=400)"
   ]
  },
  {
   "cell_type": "code",
   "execution_count": 4,
   "id": "97dc721b-b358-4dcb-8b0b-cd922ded91e5",
   "metadata": {},
   "outputs": [],
   "source": [
    "def compute_z(a, b, c):\n",
    "    r1 = torch.sub(a,b )\n",
    "    r2 = torch.mul(r1, 2)\n",
    "    z = torch.add(r2, c)\n",
    "    return z"
   ]
  },
  {
   "cell_type": "code",
   "execution_count": 12,
   "id": "c446583c-420b-4d3f-b5a2-cc52c370761b",
   "metadata": {},
   "outputs": [
    {
     "data": {
      "text/plain": [
       "tensor(1)"
      ]
     },
     "execution_count": 12,
     "metadata": {},
     "output_type": "execute_result"
    }
   ],
   "source": [
    "compute_z(1,2,3)"
   ]
  },
  {
   "cell_type": "code",
   "execution_count": 11,
   "id": "731204be-0f7f-45fd-9184-54641cce54ec",
   "metadata": {},
   "outputs": [
    {
     "data": {
      "text/plain": [
       "tensor([1])"
      ]
     },
     "execution_count": 11,
     "metadata": {},
     "output_type": "execute_result"
    }
   ],
   "source": [
    "compute_z(torch.tensor([1]),torch.tensor([2]),torch.tensor([3]))"
   ]
  },
  {
   "cell_type": "code",
   "execution_count": 10,
   "id": "4ff45e4d-61f0-4a4e-b6b3-bbdf76326e7a",
   "metadata": {},
   "outputs": [
    {
     "data": {
      "text/plain": [
       "tensor([[1]])"
      ]
     },
     "execution_count": 10,
     "metadata": {},
     "output_type": "execute_result"
    }
   ],
   "source": [
    "compute_z(torch.tensor([[1]]),torch.tensor([[2]]),torch.tensor([[3]]))"
   ]
  },
  {
   "cell_type": "code",
   "execution_count": 15,
   "id": "3e430033-ea2a-4285-8365-dc2b120cc2b0",
   "metadata": {},
   "outputs": [
    {
     "name": "stdout",
     "output_type": "stream",
     "text": [
      "tensor(3.1400, requires_grad=True)\n",
      "tensor([1., 2., 3.])\n"
     ]
    }
   ],
   "source": [
    "a = torch.tensor(3.14, requires_grad=True)\n",
    "b = torch.tensor([1.0, 2.0, 3.0], requires_grad=False)\n",
    "print(a)\n",
    "print(b)"
   ]
  },
  {
   "cell_type": "code",
   "execution_count": 16,
   "id": "b6222e5e-53c3-4569-81e9-983228705c54",
   "metadata": {},
   "outputs": [],
   "source": [
    "import torch.nn as nn"
   ]
  },
  {
   "cell_type": "code",
   "execution_count": 22,
   "id": "4b00062c-5659-474a-8871-ca39fc48f8e9",
   "metadata": {},
   "outputs": [],
   "source": [
    "torch.manual_seed(1)\n",
    "w = torch.empty(2,3)"
   ]
  },
  {
   "cell_type": "code",
   "execution_count": 23,
   "id": "998adff5-972b-469b-a664-edad70352939",
   "metadata": {},
   "outputs": [
    {
     "data": {
      "text/plain": [
       "tensor([[1.7054e-22, 0.0000e+00, 0.0000e+00],\n",
       "        [2.3510e-38, 1.1503e-25, 0.0000e+00]])"
      ]
     },
     "execution_count": 23,
     "metadata": {},
     "output_type": "execute_result"
    }
   ],
   "source": [
    "w"
   ]
  },
  {
   "cell_type": "code",
   "execution_count": 49,
   "id": "0d97c516-8819-4128-96a5-25b40b552865",
   "metadata": {},
   "outputs": [
    {
     "name": "stdout",
     "output_type": "stream",
     "text": [
      "tensor([[ 0.4183,  0.1688,  0.0390],\n",
      "        [ 0.3930, -0.2858, -0.1051]])\n"
     ]
    }
   ],
   "source": [
    "torch.manual_seed(1)\n",
    "w = torch.empty(2,3)\n",
    "nn.init.xavier_normal_(w)\n",
    "print(w)"
   ]
  },
  {
   "cell_type": "code",
   "execution_count": 50,
   "id": "9019bd2a-6b57-4210-938d-da9993485524",
   "metadata": {},
   "outputs": [],
   "source": [
    "class MyModule(nn.Module):\n",
    "    def __init__(self):\n",
    "        super().__init__()\n",
    "        self.w1 = torch.empty(2, 3, requires_grad=True)\n",
    "        nn.init.xavier_normal_(self.w1)\n",
    "        self.w2 = torch.empty(1, 2, requires_grad=True)\n",
    "        nn.init.xavier_normal_(self.w2)"
   ]
  },
  {
   "cell_type": "code",
   "execution_count": 63,
   "id": "92a910e6-380d-4894-813a-98fe462e2468",
   "metadata": {},
   "outputs": [],
   "source": [
    "w = torch.tensor(1.0, requires_grad=True)\n",
    "b = torch.tensor(0.5, requires_grad=True)\n",
    "\n",
    "x = torch.tensor([1.4])\n",
    "y = torch.tensor([2.1])\n",
    "\n",
    "\n",
    "z = torch.add(torch.mul(w, x), b)\n",
    "\n",
    "loss = (y-z).pow(2).sum()\n"
   ]
  },
  {
   "cell_type": "code",
   "execution_count": 64,
   "id": "bd374a03-de39-4dfd-b325-dc13df2a7752",
   "metadata": {},
   "outputs": [
    {
     "data": {
      "text/plain": [
       "tensor(1., requires_grad=True)"
      ]
     },
     "execution_count": 64,
     "metadata": {},
     "output_type": "execute_result"
    }
   ],
   "source": [
    "w"
   ]
  },
  {
   "cell_type": "code",
   "execution_count": 65,
   "id": "3a6a6d3b-2fc8-43d8-9fcd-1f5bc39ab775",
   "metadata": {},
   "outputs": [
    {
     "name": "stdout",
     "output_type": "stream",
     "text": [
      "dL/dw :  None\n",
      "dL/db :  None\n"
     ]
    }
   ],
   "source": [
    "print('dL/dw : ', w.grad)\n",
    "print('dL/db : ', b.grad)"
   ]
  },
  {
   "cell_type": "code",
   "execution_count": 66,
   "id": "b3ad8fc4-acec-4197-8c6f-f2c161dd0105",
   "metadata": {},
   "outputs": [],
   "source": [
    "loss.backward()\n"
   ]
  },
  {
   "cell_type": "code",
   "execution_count": 67,
   "id": "169a0283-204f-4005-925d-61c460218000",
   "metadata": {},
   "outputs": [
    {
     "name": "stdout",
     "output_type": "stream",
     "text": [
      "dL/dw :  tensor(-0.5600)\n",
      "dL/db :  tensor(-0.4000)\n"
     ]
    }
   ],
   "source": [
    "print('dL/dw : ', w.grad)\n",
    "print('dL/db : ', b.grad)"
   ]
  },
  {
   "cell_type": "code",
   "execution_count": 68,
   "id": "6a09c509-3c30-48e1-be62-fe2a6c4ac0fc",
   "metadata": {},
   "outputs": [
    {
     "data": {
      "text/plain": [
       "tensor(1., requires_grad=True)"
      ]
     },
     "execution_count": 68,
     "metadata": {},
     "output_type": "execute_result"
    }
   ],
   "source": [
    "w"
   ]
  },
  {
   "cell_type": "code",
   "execution_count": 69,
   "id": "16112169-82d5-4274-a6f8-232ca8fd8a33",
   "metadata": {},
   "outputs": [],
   "source": [
    "import numpy as np\n",
    "import matplotlib.pyplot as plt\n",
    "\n",
    "import torch\n",
    "import torch.nn as nn\n",
    "import torch.nn.functional as F\n",
    "from torchvision import transforms, datasets"
   ]
  },
  {
   "cell_type": "code",
   "execution_count": 70,
   "id": "aa63714f-a63f-4fa2-a2ed-4e7e91dbd2d1",
   "metadata": {},
   "outputs": [
    {
     "name": "stdout",
     "output_type": "stream",
     "text": [
      "Using PyTorch version: 2.5.1+cpu  Device: cpu\n"
     ]
    }
   ],
   "source": [
    "if torch.cuda.is_available():\n",
    "    DEVICE = torch.device('cuda')\n",
    "else:\n",
    "    DEVICE = torch.device('cpu')\n",
    "\n",
    "print('Using PyTorch version:', torch.__version__, ' Device:', DEVICE)"
   ]
  },
  {
   "cell_type": "code",
   "execution_count": 104,
   "id": "f5d1c573-3dfb-4f0c-8d41-a2e2becfd899",
   "metadata": {},
   "outputs": [],
   "source": [
    "BATCH_SIZE = 32\n",
    "EPOCHS = 10\n",
    "train_dataset = datasets.MNIST(root = \"../data/MNIST\",\n",
    "                               train = True,\n",
    "                               download = True,\n",
    "                               transform = transforms.ToTensor())\n",
    "\n",
    "test_dataset = datasets.MNIST(root = \"../data/MNIST\",\n",
    "                              train = False,\n",
    "                              transform = transforms.ToTensor())\n",
    "\n",
    "train_loader = torch.utils.data.DataLoader(dataset = train_dataset,\n",
    "                                           batch_size = BATCH_SIZE,\n",
    "                                           shuffle = True)\n",
    "\n",
    "test_loader = torch.utils.data.DataLoader(dataset = test_dataset,\n",
    "                                          batch_size = BATCH_SIZE,\n",
    "                                          shuffle = False)"
   ]
  },
  {
   "cell_type": "code",
   "execution_count": 105,
   "id": "c74e37cc-4675-4b63-8d0f-471aa79c0032",
   "metadata": {},
   "outputs": [
    {
     "name": "stdout",
     "output_type": "stream",
     "text": [
      "X_train: torch.Size([32, 1, 28, 28]) type: torch.FloatTensor\n",
      "y_train: torch.Size([32]) type: torch.LongTensor\n"
     ]
    }
   ],
   "source": [
    "for (X_train, y_train) in train_loader:\n",
    "    print('X_train:', X_train.size(), 'type:', X_train.type())\n",
    "    print('y_train:', y_train.size(), 'type:', y_train.type())\n",
    "    break"
   ]
  },
  {
   "cell_type": "code",
   "execution_count": 106,
   "id": "67d5d741-498e-45bc-b387-a70f937d3578",
   "metadata": {},
   "outputs": [
    {
     "data": {
      "image/png": "[encoded data removed]",
      "text/plain": [
       "<Figure size 1000x100 with 10 Axes>"
      ]
     },
     "metadata": {},
     "output_type": "display_data"
    }
   ],
   "source": [
    "pltsize = 1\n",
    "plt.figure(figsize=(10 * pltsize, pltsize))\n",
    "for i in range(10):\n",
    "    plt.subplot(1, 10, i + 1)\n",
    "    plt.axis('off')\n",
    "    plt.imshow(X_train[i, :, :, :].numpy().reshape(28, 28), cmap = \"gray_r\")\n",
    "    plt.title('Class: ' + str(y_train[i].item()))"
   ]
  },
  {
   "cell_type": "code",
   "execution_count": null,
   "id": "39fe763b-7f79-45ff-8d6b-20680741784e",
   "metadata": {},
   "outputs": [],
   "source": [
    "class encore(nn.Module):\n",
    "    def __init__(self):\n",
    "        super().__init__()\n",
    "        self.fc1 = nn.Linear(28*28, 512)\n",
    "        self.fc2 = nn.Linear(512, 256)\n",
    "        self.fc2_2 = nn.Linear(256, 128)\n",
    "        self.fc3 = nn.Linear(128, 10)\n",
    "\n",
    "    def forward(self, x):\n",
    "        x = x.view(-1, 28*28)\n",
    "        \n",
    "        "
   ]
  },
  {
   "cell_type": "code",
   "execution_count": 129,
   "id": "d2ccd1a9-3413-448d-8f2d-f17dc78b6e96",
   "metadata": {},
   "outputs": [],
   "source": [
    "class A():\n",
    "    def __init__(self):\n",
    "        self.data = 10\n",
    "        \n",
    "    def get_data(self):\n",
    "        return self.data\n",
    "\n",
    "    def set_data(self, x):\n",
    "        self.data = x "
   ]
  },
  {
   "cell_type": "code",
   "execution_count": 130,
   "id": "048385a3-dc2c-490a-9231-427c2f49cce1",
   "metadata": {},
   "outputs": [],
   "source": [
    "a = A()"
   ]
  },
  {
   "cell_type": "code",
   "execution_count": 131,
   "id": "7ceccfc0-ce88-4eb2-9884-bbe29fd33bc0",
   "metadata": {},
   "outputs": [
    {
     "data": {
      "text/plain": [
       "10"
      ]
     },
     "execution_count": 131,
     "metadata": {},
     "output_type": "execute_result"
    }
   ],
   "source": [
    "a.get_data()"
   ]
  },
  {
   "cell_type": "code",
   "execution_count": 133,
   "id": "93b07de9-9f0d-4079-bf18-001d2ad9d9f0",
   "metadata": {},
   "outputs": [],
   "source": [
    "a.set_data(100)"
   ]
  },
  {
   "cell_type": "code",
   "execution_count": 134,
   "id": "521ae925-b13d-481a-a784-a38be194bb41",
   "metadata": {},
   "outputs": [
    {
     "data": {
      "text/plain": [
       "100"
      ]
     },
     "execution_count": 134,
     "metadata": {},
     "output_type": "execute_result"
    }
   ],
   "source": [
    "a.get_data()"
   ]
  },
  {
   "cell_type": "code",
   "execution_count": 135,
   "id": "fa94509f-ccf1-414d-afc3-b2ac74dc4c40",
   "metadata": {},
   "outputs": [],
   "source": [
    "b = A()"
   ]
  },
  {
   "cell_type": "code",
   "execution_count": 144,
   "id": "38591610-df30-44b5-b707-f662eeb8c596",
   "metadata": {},
   "outputs": [
    {
     "data": {
      "text/plain": [
       "784"
      ]
     },
     "execution_count": 144,
     "metadata": {},
     "output_type": "execute_result"
    }
   ],
   "source": [
    "28*28"
   ]
  },
  {
   "cell_type": "code",
   "execution_count": 149,
   "id": "a0a73d65-7fd8-447a-a361-29413113dc6e",
   "metadata": {},
   "outputs": [
    {
     "data": {
      "text/plain": [
       "(1, 784)"
      ]
     },
     "execution_count": 149,
     "metadata": {},
     "output_type": "execute_result"
    }
   ],
   "source": [
    "np.arange(784).reshape(28,28).reshape(1, 784).shape"
   ]
  },
  {
   "cell_type": "code",
   "execution_count": null,
   "id": "bcd152c1-6031-4e43-b9d8-5725b6385249",
   "metadata": {},
   "outputs": [],
   "source": [
    "b.get_data()"
   ]
  },
  {
   "cell_type": "code",
   "execution_count": 150,
   "id": "315292ab-1fd2-4954-aa03-fe76b6b7c391",
   "metadata": {},
   "outputs": [],
   "source": [
    "import torch.nn.functional as F\n",
    "class Net(nn.Module):\n",
    "    def __init__(self):\n",
    "        super(Net, self).__init__()\n",
    "        self.fc1 = nn.Linear(28 * 28, 512)\n",
    "        self.fc2 = nn.Linear(512, 256)\n",
    "        self.fc3 = nn.Linear(256, 10)\n",
    "\n",
    "    def forward(self, x):\n",
    "        x = x.view(-1, 28 * 28)\n",
    "        x = self.fc1(x)\n",
    "        x = F.sigmoid(x)\n",
    "        x = self.fc2(x)\n",
    "        x = F.sigmoid(x)\n",
    "        x = self.fc3(x)\n",
    "        x = F.log_softmax(x, dim = 1)\n",
    "        return x"
   ]
  },
  {
   "cell_type": "code",
   "execution_count": 151,
   "id": "2daab0c2-3066-4930-bd3a-c74681d8098a",
   "metadata": {},
   "outputs": [
    {
     "name": "stdout",
     "output_type": "stream",
     "text": [
      "Net(\n",
      "  (fc1): Linear(in_features=784, out_features=512, bias=True)\n",
      "  (fc2): Linear(in_features=512, out_features=256, bias=True)\n",
      "  (fc3): Linear(in_features=256, out_features=10, bias=True)\n",
      ")\n"
     ]
    }
   ],
   "source": [
    "model = Net().to(DEVICE)\n",
    "optimizer = torch.optim.SGD(model.parameters(), lr = 0.01, momentum = 0.5)\n",
    "criterion = nn.CrossEntropyLoss()\n",
    "\n",
    "print(model)"
   ]
  },
  {
   "cell_type": "code",
   "execution_count": 152,
   "id": "9cf528a1-b76a-43b1-ab01-c1c384d5be9c",
   "metadata": {},
   "outputs": [],
   "source": [
    "''' 8. MLP 모델 학습을 진행하며 학습 데이터에 대한 모델 성능을 확인하는 함수 정의 '''\n",
    "def train(model, train_loader, optimizer, log_interval):\n",
    "    model.train()\n",
    "    for batch_idx, (image, label) in enumerate(train_loader):\n",
    "        image = image.to(DEVICE)\n",
    "        label = label.to(DEVICE)\n",
    "        optimizer.zero_grad()\n",
    "        output = model(image)\n",
    "        loss = criterion(output, label)\n",
    "        loss.backward()\n",
    "        optimizer.step()\n",
    "\n",
    "        if batch_idx % log_interval == 0:\n",
    "            print(\"Train Epoch: {} [{}/{} ({:.0f}%)]\\tTrain Loss: {:.6f}\".format(\n",
    "                epoch, batch_idx * len(image), \n",
    "                len(train_loader.dataset), 100. * batch_idx / len(train_loader), \n",
    "                loss.item()))"
   ]
  },
  {
   "cell_type": "code",
   "execution_count": 153,
   "id": "d2c31be1-6181-482c-8109-e90d463ceda7",
   "metadata": {},
   "outputs": [],
   "source": [
    "''' 9. 학습되는 과정 속에서 검증 데이터에 대한 모델 성능을 확인하는 함수 정의 '''\n",
    "def evaluate(model, test_loader):\n",
    "    model.eval()\n",
    "    test_loss = 0\n",
    "    correct = 0\n",
    "\n",
    "    with torch.no_grad():\n",
    "        for image, label in test_loader:\n",
    "            image = image.to(DEVICE)\n",
    "            label = label.to(DEVICE)\n",
    "            output = model(image)\n",
    "            test_loss += criterion(output, label).item()\n",
    "            prediction = output.max(1, keepdim = True)[1]\n",
    "            correct += prediction.eq(label.view_as(prediction)).sum().item()\n",
    "    \n",
    "    test_loss /= (len(test_loader.dataset) / BATCH_SIZE)\n",
    "    test_accuracy = 100. * correct / len(test_loader.dataset)\n",
    "    return test_loss, test_accuracy"
   ]
  },
  {
   "cell_type": "code",
   "execution_count": 154,
   "id": "b0b3aa22-2d06-42e2-95be-a59525967b89",
   "metadata": {},
   "outputs": [
    {
     "name": "stdout",
     "output_type": "stream",
     "text": [
      "Train Epoch: 1 [0/60000 (0%)]\tTrain Loss: 2.309909\n",
      "Train Epoch: 1 [6400/60000 (11%)]\tTrain Loss: 2.319084\n",
      "Train Epoch: 1 [12800/60000 (21%)]\tTrain Loss: 2.295378\n",
      "Train Epoch: 1 [19200/60000 (32%)]\tTrain Loss: 2.312120\n",
      "Train Epoch: 1 [25600/60000 (43%)]\tTrain Loss: 2.306503\n",
      "Train Epoch: 1 [32000/60000 (53%)]\tTrain Loss: 2.306550\n",
      "Train Epoch: 1 [38400/60000 (64%)]\tTrain Loss: 2.265510\n",
      "Train Epoch: 1 [44800/60000 (75%)]\tTrain Loss: 2.261312\n",
      "Train Epoch: 1 [51200/60000 (85%)]\tTrain Loss: 2.274026\n",
      "Train Epoch: 1 [57600/60000 (96%)]\tTrain Loss: 2.255356\n",
      "\n",
      "[EPOCH: 1], \tTest Loss: 2.2297, \tTest Accuracy: 30.17 % \n",
      "\n",
      "Train Epoch: 2 [0/60000 (0%)]\tTrain Loss: 2.231102\n",
      "Train Epoch: 2 [6400/60000 (11%)]\tTrain Loss: 2.208774\n",
      "Train Epoch: 2 [12800/60000 (21%)]\tTrain Loss: 2.157536\n",
      "Train Epoch: 2 [19200/60000 (32%)]\tTrain Loss: 2.062747\n",
      "Train Epoch: 2 [25600/60000 (43%)]\tTrain Loss: 2.033105\n",
      "Train Epoch: 2 [32000/60000 (53%)]\tTrain Loss: 1.869092\n",
      "Train Epoch: 2 [38400/60000 (64%)]\tTrain Loss: 1.684372\n",
      "Train Epoch: 2 [44800/60000 (75%)]\tTrain Loss: 1.276323\n",
      "Train Epoch: 2 [51200/60000 (85%)]\tTrain Loss: 1.460243\n",
      "Train Epoch: 2 [57600/60000 (96%)]\tTrain Loss: 1.193177\n",
      "\n",
      "[EPOCH: 2], \tTest Loss: 1.2283, \tTest Accuracy: 64.29 % \n",
      "\n",
      "Train Epoch: 3 [0/60000 (0%)]\tTrain Loss: 1.403873\n",
      "Train Epoch: 3 [6400/60000 (11%)]\tTrain Loss: 1.175460\n",
      "Train Epoch: 3 [12800/60000 (21%)]\tTrain Loss: 1.084486\n",
      "Train Epoch: 3 [19200/60000 (32%)]\tTrain Loss: 1.042582\n",
      "Train Epoch: 3 [25600/60000 (43%)]\tTrain Loss: 1.375548\n",
      "Train Epoch: 3 [32000/60000 (53%)]\tTrain Loss: 1.024586\n",
      "Train Epoch: 3 [38400/60000 (64%)]\tTrain Loss: 0.877454\n",
      "Train Epoch: 3 [44800/60000 (75%)]\tTrain Loss: 0.749297\n",
      "Train Epoch: 3 [51200/60000 (85%)]\tTrain Loss: 0.850382\n",
      "Train Epoch: 3 [57600/60000 (96%)]\tTrain Loss: 0.635188\n",
      "\n",
      "[EPOCH: 3], \tTest Loss: 0.7525, \tTest Accuracy: 78.01 % \n",
      "\n",
      "Train Epoch: 4 [0/60000 (0%)]\tTrain Loss: 0.611415\n",
      "Train Epoch: 4 [6400/60000 (11%)]\tTrain Loss: 0.621355\n",
      "Train Epoch: 4 [12800/60000 (21%)]\tTrain Loss: 0.752667\n",
      "Train Epoch: 4 [19200/60000 (32%)]\tTrain Loss: 0.636428\n",
      "Train Epoch: 4 [25600/60000 (43%)]\tTrain Loss: 0.996212\n",
      "Train Epoch: 4 [32000/60000 (53%)]\tTrain Loss: 0.387862\n",
      "Train Epoch: 4 [38400/60000 (64%)]\tTrain Loss: 0.618866\n",
      "Train Epoch: 4 [44800/60000 (75%)]\tTrain Loss: 0.657748\n",
      "Train Epoch: 4 [51200/60000 (85%)]\tTrain Loss: 0.366995\n",
      "Train Epoch: 4 [57600/60000 (96%)]\tTrain Loss: 0.684439\n",
      "\n",
      "[EPOCH: 4], \tTest Loss: 0.5566, \tTest Accuracy: 83.51 % \n",
      "\n",
      "Train Epoch: 5 [0/60000 (0%)]\tTrain Loss: 0.803241\n",
      "Train Epoch: 5 [6400/60000 (11%)]\tTrain Loss: 0.466985\n",
      "Train Epoch: 5 [12800/60000 (21%)]\tTrain Loss: 0.646498\n",
      "Train Epoch: 5 [19200/60000 (32%)]\tTrain Loss: 0.654439\n",
      "Train Epoch: 5 [25600/60000 (43%)]\tTrain Loss: 0.409276\n",
      "Train Epoch: 5 [32000/60000 (53%)]\tTrain Loss: 0.960207\n",
      "Train Epoch: 5 [38400/60000 (64%)]\tTrain Loss: 0.496199\n",
      "Train Epoch: 5 [44800/60000 (75%)]\tTrain Loss: 0.349334\n",
      "Train Epoch: 5 [51200/60000 (85%)]\tTrain Loss: 0.518708\n",
      "Train Epoch: 5 [57600/60000 (96%)]\tTrain Loss: 0.493316\n",
      "\n",
      "[EPOCH: 5], \tTest Loss: 0.4595, \tTest Accuracy: 86.39 % \n",
      "\n",
      "Train Epoch: 6 [0/60000 (0%)]\tTrain Loss: 0.532592\n",
      "Train Epoch: 6 [6400/60000 (11%)]\tTrain Loss: 0.465238\n",
      "Train Epoch: 6 [12800/60000 (21%)]\tTrain Loss: 0.355865\n",
      "Train Epoch: 6 [19200/60000 (32%)]\tTrain Loss: 0.321482\n",
      "Train Epoch: 6 [25600/60000 (43%)]\tTrain Loss: 0.264524\n",
      "Train Epoch: 6 [32000/60000 (53%)]\tTrain Loss: 0.296834\n",
      "Train Epoch: 6 [38400/60000 (64%)]\tTrain Loss: 0.668250\n",
      "Train Epoch: 6 [44800/60000 (75%)]\tTrain Loss: 0.275083\n",
      "Train Epoch: 6 [51200/60000 (85%)]\tTrain Loss: 0.281213\n",
      "Train Epoch: 6 [57600/60000 (96%)]\tTrain Loss: 0.386873\n",
      "\n",
      "[EPOCH: 6], \tTest Loss: 0.4109, \tTest Accuracy: 88.14 % \n",
      "\n",
      "Train Epoch: 7 [0/60000 (0%)]\tTrain Loss: 0.445109\n",
      "Train Epoch: 7 [6400/60000 (11%)]\tTrain Loss: 0.370966\n",
      "Train Epoch: 7 [12800/60000 (21%)]\tTrain Loss: 0.569217\n",
      "Train Epoch: 7 [19200/60000 (32%)]\tTrain Loss: 0.333772\n",
      "Train Epoch: 7 [25600/60000 (43%)]\tTrain Loss: 0.398436\n",
      "Train Epoch: 7 [32000/60000 (53%)]\tTrain Loss: 0.237786\n",
      "Train Epoch: 7 [38400/60000 (64%)]\tTrain Loss: 0.457912\n",
      "Train Epoch: 7 [44800/60000 (75%)]\tTrain Loss: 0.525084\n",
      "Train Epoch: 7 [51200/60000 (85%)]\tTrain Loss: 0.330223\n",
      "Train Epoch: 7 [57600/60000 (96%)]\tTrain Loss: 0.249622\n",
      "\n",
      "[EPOCH: 7], \tTest Loss: 0.3846, \tTest Accuracy: 88.63 % \n",
      "\n",
      "Train Epoch: 8 [0/60000 (0%)]\tTrain Loss: 0.397456\n",
      "Train Epoch: 8 [6400/60000 (11%)]\tTrain Loss: 0.284167\n",
      "Train Epoch: 8 [12800/60000 (21%)]\tTrain Loss: 0.179316\n",
      "Train Epoch: 8 [19200/60000 (32%)]\tTrain Loss: 0.402798\n",
      "Train Epoch: 8 [25600/60000 (43%)]\tTrain Loss: 0.370912\n",
      "Train Epoch: 8 [32000/60000 (53%)]\tTrain Loss: 0.273188\n",
      "Train Epoch: 8 [38400/60000 (64%)]\tTrain Loss: 0.614986\n",
      "Train Epoch: 8 [44800/60000 (75%)]\tTrain Loss: 0.135596\n",
      "Train Epoch: 8 [51200/60000 (85%)]\tTrain Loss: 0.567312\n",
      "Train Epoch: 8 [57600/60000 (96%)]\tTrain Loss: 0.214185\n",
      "\n",
      "[EPOCH: 8], \tTest Loss: 0.3602, \tTest Accuracy: 89.59 % \n",
      "\n",
      "Train Epoch: 9 [0/60000 (0%)]\tTrain Loss: 0.222127\n",
      "Train Epoch: 9 [6400/60000 (11%)]\tTrain Loss: 0.503849\n",
      "Train Epoch: 9 [12800/60000 (21%)]\tTrain Loss: 0.179523\n",
      "Train Epoch: 9 [19200/60000 (32%)]\tTrain Loss: 0.321842\n",
      "Train Epoch: 9 [25600/60000 (43%)]\tTrain Loss: 0.460945\n",
      "Train Epoch: 9 [32000/60000 (53%)]\tTrain Loss: 0.584971\n",
      "Train Epoch: 9 [38400/60000 (64%)]\tTrain Loss: 0.570922\n",
      "Train Epoch: 9 [44800/60000 (75%)]\tTrain Loss: 0.139287\n",
      "Train Epoch: 9 [51200/60000 (85%)]\tTrain Loss: 0.215887\n",
      "Train Epoch: 9 [57600/60000 (96%)]\tTrain Loss: 0.154573\n",
      "\n",
      "[EPOCH: 9], \tTest Loss: 0.3504, \tTest Accuracy: 89.87 % \n",
      "\n",
      "Train Epoch: 10 [0/60000 (0%)]\tTrain Loss: 0.413656\n",
      "Train Epoch: 10 [6400/60000 (11%)]\tTrain Loss: 0.548970\n",
      "Train Epoch: 10 [12800/60000 (21%)]\tTrain Loss: 0.396479\n",
      "Train Epoch: 10 [19200/60000 (32%)]\tTrain Loss: 0.194559\n",
      "Train Epoch: 10 [25600/60000 (43%)]\tTrain Loss: 0.532642\n",
      "Train Epoch: 10 [32000/60000 (53%)]\tTrain Loss: 0.324125\n",
      "Train Epoch: 10 [38400/60000 (64%)]\tTrain Loss: 0.445672\n",
      "Train Epoch: 10 [44800/60000 (75%)]\tTrain Loss: 0.564366\n",
      "Train Epoch: 10 [51200/60000 (85%)]\tTrain Loss: 0.221220\n",
      "Train Epoch: 10 [57600/60000 (96%)]\tTrain Loss: 0.601285\n",
      "\n",
      "[EPOCH: 10], \tTest Loss: 0.3355, \tTest Accuracy: 90.17 % \n",
      "\n"
     ]
    }
   ],
   "source": [
    "''' 10. MLP 학습 실행하며 Train, Test set의 Loss 및 Test set Accuracy 확인하기 '''\n",
    "for epoch in range(1, EPOCHS + 1):\n",
    "    train(model, train_loader, optimizer, log_interval = 200)\n",
    "    test_loss, test_accuracy = evaluate(model, test_loader)\n",
    "    print(\"\\n[EPOCH: {}], \\tTest Loss: {:.4f}, \\tTest Accuracy: {:.2f} % \\n\".format(\n",
    "        epoch, test_loss, test_accuracy))"
   ]
  }
 ],
 "metadata": {
  "kernelspec": {
   "display_name": "pytorch",
   "language": "python",
   "name": "pytorch"
  },
  "language_info": {
   "codemirror_mode": {
    "name": "ipython",
    "version": 3
   },
   "file_extension": ".py",
   "mimetype": "text/x-python",
   "name": "python",
   "nbconvert_exporter": "python",
   "pygments_lexer": "ipython3",
   "version": "3.10.15"
  }
 },
 "nbformat": 4,
 "nbformat_minor": 5
}
