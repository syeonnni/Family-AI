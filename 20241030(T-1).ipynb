{
 "cells": [
  {
   "cell_type": "code",
   "execution_count": 20,
   "id": "8c7748cb-8ad5-48ce-90a8-585511f35ac5",
   "metadata": {},
   "outputs": [],
   "source": [
    "# 1마일 -> 1.60934km \n",
    "def trans(x, type_=\"K\"):\n",
    "    \"\"\"\n",
    "    마일 사용 -> M\n",
    "    킬로 사용 -> K \n",
    "    \"\"\"\n",
    "    \n",
    "    if type_ == \"M\" or type_ == \"m\":\n",
    "        return x / 1.60934\n",
    "    elif type_ == \"K\":\n",
    "        return x * 1.60934\n",
    "    else:\n",
    "        print(\"사용법숙지\")"
   ]
  },
  {
   "cell_type": "code",
   "execution_count": 22,
   "id": "b45cb5f3-6827-4494-88bc-ac266f4a4166",
   "metadata": {},
   "outputs": [],
   "source": [
    "# 1마일 -> 1.60934km \n",
    "def trans(x, type_=\"K\"):\n",
    "    \"\"\"\n",
    "    마일 사용 -> M\n",
    "    킬로 사용 -> K \n",
    "    \"\"\"\n",
    "    type_ = type_.upper()\n",
    "    if type_ == \"M\":\n",
    "        return x / 1.60934\n",
    "    elif type_ == \"K\":\n",
    "        return x * 1.60934\n",
    "    else:\n",
    "        print(\"사용법숙지\")"
   ]
  },
  {
   "cell_type": "code",
   "execution_count": 23,
   "id": "2f5827e8-548c-460f-9fb0-23277308ec3b",
   "metadata": {},
   "outputs": [
    {
     "data": {
      "text/plain": [
       "18.641182099494202"
      ]
     },
     "execution_count": 23,
     "metadata": {},
     "output_type": "execute_result"
    }
   ],
   "source": [
    "trans(30, \"m\")"
   ]
  },
  {
   "cell_type": "code",
   "execution_count": 12,
   "id": "13ad60eb-012b-4d37-8667-8c3e95b605a4",
   "metadata": {},
   "outputs": [
    {
     "name": "stdout",
     "output_type": "stream",
     "text": [
      "Help on function trans in module __main__:\n",
      "\n",
      "trans(x, type_)\n",
      "    마일 사용 -> M\n",
      "    킬로 사용 -> K\n",
      "\n"
     ]
    }
   ],
   "source": [
    "help(trans)"
   ]
  },
  {
   "cell_type": "code",
   "execution_count": null,
   "id": "be113729-9d3d-4cd0-84a2-0e61e21a99da",
   "metadata": {},
   "outputs": [],
   "source": []
  }
 ],
 "metadata": {
  "kernelspec": {
   "display_name": "Python 3 (ipykernel)",
   "language": "python",
   "name": "python3"
  },
  "language_info": {
   "codemirror_mode": {
    "name": "ipython",
    "version": 3
   },
   "file_extension": ".py",
   "mimetype": "text/x-python",
   "name": "python",
   "nbconvert_exporter": "python",
   "pygments_lexer": "ipython3",
   "version": "3.10.15"
  }
 },
 "nbformat": 4,
 "nbformat_minor": 5
}
