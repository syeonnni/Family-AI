{
 "cells": [
  {
   "cell_type": "code",
   "execution_count": 1,
   "id": "faddd189-c80a-44af-95b5-043bccd93734",
   "metadata": {},
   "outputs": [],
   "source": [
    "import pickle\n",
    "import numpy as np"
   ]
  },
  {
   "cell_type": "code",
   "execution_count": 2,
   "id": "23b8cd1b-f33b-4241-b326-b0710fe1cc66",
   "metadata": {},
   "outputs": [],
   "source": [
    "with open(\"./data/total_kbo_player.pkl\", \"rb\") as f:\n",
    "    kbo_player = pickle.load(f)"
   ]
  },
  {
   "cell_type": "code",
   "execution_count": 3,
   "id": "b8bfab97-c4bf-42d3-ad77-af61f1d6d335",
   "metadata": {},
   "outputs": [],
   "source": [
    "for x in kbo_player:\n",
    "    x['신장'] = x['신장/체중'].split(\"/\")[0].replace(\"cm\", \"\")\n",
    "    x['체중'] = x['신장/체중'].split(\"/\")[1].replace(\"kg\", \"\")"
   ]
  },
  {
   "cell_type": "code",
   "execution_count": 4,
   "id": "33ea3172-a860-416e-a96a-878a879f99bf",
   "metadata": {},
   "outputs": [
    {
     "data": {
      "text/plain": [
       "{'선수명': '강동훈',\n",
       " '등번호': 'No.034',\n",
       " '생년월일': '2000년 11월 23일',\n",
       " '포지션': '투수(우투우타)',\n",
       " '신장/체중': '185cm/98kg',\n",
       " '경력': '천안남산초-청주중-청주고-중앙대',\n",
       " '입단 계약금': '7000만원',\n",
       " '연봉': '3000만원',\n",
       " '지명순위': '24 KIA 5라운드 46순위',\n",
       " '입단년도': '',\n",
       " 'team': 'KIA 타이거즈',\n",
       " '신장': '185',\n",
       " '체중': '98'}"
      ]
     },
     "execution_count": 4,
     "metadata": {},
     "output_type": "execute_result"
    }
   ],
   "source": [
    "kbo_player[0]"
   ]
  },
  {
   "cell_type": "code",
   "execution_count": 10,
   "id": "3ac2537d-a3e3-4d67-8e2f-daab94e1c861",
   "metadata": {},
   "outputs": [],
   "source": [
    "#kia2 = [x['신장'] for x in kbo_player if x['team'].find(\"KIA\") > -1]\n",
    "\n",
    "kia = []\n",
    "for x in kbo_player:\n",
    "    #팀이름이 기아라면 -1보다 큰 수이므로 \n",
    "    if x['team'].find(\"KIA\") > -1:\n",
    "        kia.append(x['신장'])"
   ]
  },
  {
   "cell_type": "code",
   "execution_count": 11,
   "id": "315f55cd-be87-4384-8036-df31d8f970d4",
   "metadata": {
    "scrolled": true
   },
   "outputs": [
    {
     "data": {
      "text/plain": [
       "['185',\n",
       " '181',\n",
       " '190',\n",
       " '178',\n",
       " '184',\n",
       " '185',\n",
       " '187',\n",
       " '183',\n",
       " '183',\n",
       " '184',\n",
       " '187',\n",
       " '183',\n",
       " '188',\n",
       " '183',\n",
       " '177',\n",
       " '186',\n",
       " '188',\n",
       " '182',\n",
       " '182',\n",
       " '187',\n",
       " '165',\n",
       " '180',\n",
       " '182',\n",
       " '187',\n",
       " '176',\n",
       " '184',\n",
       " '182',\n",
       " '180',\n",
       " '185',\n",
       " '178',\n",
       " '183',\n",
       " '193',\n",
       " '190',\n",
       " '193',\n",
       " '184',\n",
       " '178',\n",
       " '180',\n",
       " '175',\n",
       " '181',\n",
       " '178',\n",
       " '185',\n",
       " '176',\n",
       " '180',\n",
       " '188',\n",
       " '190',\n",
       " '183',\n",
       " '191',\n",
       " '183',\n",
       " '172',\n",
       " '187',\n",
       " '186',\n",
       " '185',\n",
       " '184',\n",
       " '189',\n",
       " '181',\n",
       " '187',\n",
       " '180',\n",
       " '188',\n",
       " '182',\n",
       " '183',\n",
       " '187',\n",
       " '182',\n",
       " '184',\n",
       " '182',\n",
       " '185',\n",
       " '184',\n",
       " '177',\n",
       " '173',\n",
       " '181',\n",
       " '184',\n",
       " '180',\n",
       " '182',\n",
       " '178',\n",
       " '180',\n",
       " '181',\n",
       " '182',\n",
       " '189',\n",
       " '185',\n",
       " '192',\n",
       " '182',\n",
       " '176',\n",
       " '178',\n",
       " '178',\n",
       " '185',\n",
       " '184',\n",
       " '180',\n",
       " '185',\n",
       " '174',\n",
       " '184',\n",
       " '195',\n",
       " '178',\n",
       " '178',\n",
       " '183']"
      ]
     },
     "execution_count": 11,
     "metadata": {},
     "output_type": "execute_result"
    }
   ],
   "source": [
    "kia"
   ]
  },
  {
   "cell_type": "code",
   "execution_count": 12,
   "id": "e965f681-6e6e-4bea-9cc3-645cff172368",
   "metadata": {
    "scrolled": true
   },
   "outputs": [
    {
     "data": {
      "text/plain": [
       "[185,\n",
       " 181,\n",
       " 190,\n",
       " 178,\n",
       " 184,\n",
       " 185,\n",
       " 187,\n",
       " 183,\n",
       " 183,\n",
       " 184,\n",
       " 187,\n",
       " 183,\n",
       " 188,\n",
       " 183,\n",
       " 177,\n",
       " 186,\n",
       " 188,\n",
       " 182,\n",
       " 182,\n",
       " 187,\n",
       " 165,\n",
       " 180,\n",
       " 182,\n",
       " 187,\n",
       " 176,\n",
       " 184,\n",
       " 182,\n",
       " 180,\n",
       " 185,\n",
       " 178,\n",
       " 183,\n",
       " 193,\n",
       " 190,\n",
       " 193,\n",
       " 184,\n",
       " 178,\n",
       " 180,\n",
       " 175,\n",
       " 181,\n",
       " 178,\n",
       " 185,\n",
       " 176,\n",
       " 180,\n",
       " 188,\n",
       " 190,\n",
       " 183,\n",
       " 191,\n",
       " 183,\n",
       " 172,\n",
       " 187,\n",
       " 186,\n",
       " 185,\n",
       " 184,\n",
       " 189,\n",
       " 181,\n",
       " 187,\n",
       " 180,\n",
       " 188,\n",
       " 182,\n",
       " 183,\n",
       " 187,\n",
       " 182,\n",
       " 184,\n",
       " 182,\n",
       " 185,\n",
       " 184,\n",
       " 177,\n",
       " 173,\n",
       " 181,\n",
       " 184,\n",
       " 180,\n",
       " 182,\n",
       " 178,\n",
       " 180,\n",
       " 181,\n",
       " 182,\n",
       " 189,\n",
       " 185,\n",
       " 192,\n",
       " 182,\n",
       " 176,\n",
       " 178,\n",
       " 178,\n",
       " 185,\n",
       " 184,\n",
       " 180,\n",
       " 185,\n",
       " 174,\n",
       " 184,\n",
       " 195,\n",
       " 178,\n",
       " 178,\n",
       " 183]"
      ]
     },
     "execution_count": 12,
     "metadata": {},
     "output_type": "execute_result"
    }
   ],
   "source": [
    "list(map(int, kia))"
   ]
  },
  {
   "cell_type": "code",
   "execution_count": 14,
   "id": "befc32e2-8e1e-41e8-84e2-9916429fa694",
   "metadata": {},
   "outputs": [
    {
     "data": {
      "text/plain": [
       "182.8494623655914"
      ]
     },
     "execution_count": 14,
     "metadata": {},
     "output_type": "execute_result"
    }
   ],
   "source": [
    "sum(map(int, kia)) / len(kia)"
   ]
  },
  {
   "cell_type": "code",
   "execution_count": 15,
   "id": "72c8a033-6814-4877-90c9-07362b0966a1",
   "metadata": {},
   "outputs": [],
   "source": [
    "kia_avg = sum(map(int, kia)) / len(kia)"
   ]
  },
  {
   "cell_type": "code",
   "execution_count": 18,
   "id": "3b29c1ed-26d5-4449-a5e3-8cae44114562",
   "metadata": {
    "scrolled": true
   },
   "outputs": [],
   "source": [
    "#편차\n",
    "편차 = [int(x) - kia_avg for x in kia]"
   ]
  },
  {
   "cell_type": "code",
   "execution_count": 19,
   "id": "ff20bcaf-4c06-4b82-97f2-4a8bf5290289",
   "metadata": {
    "scrolled": true
   },
   "outputs": [
    {
     "data": {
      "text/plain": [
       "[2.1505376344086073,\n",
       " -1.8494623655913927,\n",
       " 7.150537634408607,\n",
       " -4.849462365591393,\n",
       " 1.1505376344086073,\n",
       " 2.1505376344086073,\n",
       " 4.150537634408607,\n",
       " 0.15053763440860735,\n",
       " 0.15053763440860735,\n",
       " 1.1505376344086073,\n",
       " 4.150537634408607,\n",
       " 0.15053763440860735,\n",
       " 5.150537634408607,\n",
       " 0.15053763440860735,\n",
       " -5.849462365591393,\n",
       " 3.1505376344086073,\n",
       " 5.150537634408607,\n",
       " -0.8494623655913927,\n",
       " -0.8494623655913927,\n",
       " 4.150537634408607,\n",
       " -17.849462365591393,\n",
       " -2.8494623655913927,\n",
       " -0.8494623655913927,\n",
       " 4.150537634408607,\n",
       " -6.849462365591393,\n",
       " 1.1505376344086073,\n",
       " -0.8494623655913927,\n",
       " -2.8494623655913927,\n",
       " 2.1505376344086073,\n",
       " -4.849462365591393,\n",
       " 0.15053763440860735,\n",
       " 10.150537634408607,\n",
       " 7.150537634408607,\n",
       " 10.150537634408607,\n",
       " 1.1505376344086073,\n",
       " -4.849462365591393,\n",
       " -2.8494623655913927,\n",
       " -7.849462365591393,\n",
       " -1.8494623655913927,\n",
       " -4.849462365591393,\n",
       " 2.1505376344086073,\n",
       " -6.849462365591393,\n",
       " -2.8494623655913927,\n",
       " 5.150537634408607,\n",
       " 7.150537634408607,\n",
       " 0.15053763440860735,\n",
       " 8.150537634408607,\n",
       " 0.15053763440860735,\n",
       " -10.849462365591393,\n",
       " 4.150537634408607,\n",
       " 3.1505376344086073,\n",
       " 2.1505376344086073,\n",
       " 1.1505376344086073,\n",
       " 6.150537634408607,\n",
       " -1.8494623655913927,\n",
       " 4.150537634408607,\n",
       " -2.8494623655913927,\n",
       " 5.150537634408607,\n",
       " -0.8494623655913927,\n",
       " 0.15053763440860735,\n",
       " 4.150537634408607,\n",
       " -0.8494623655913927,\n",
       " 1.1505376344086073,\n",
       " -0.8494623655913927,\n",
       " 2.1505376344086073,\n",
       " 1.1505376344086073,\n",
       " -5.849462365591393,\n",
       " -9.849462365591393,\n",
       " -1.8494623655913927,\n",
       " 1.1505376344086073,\n",
       " -2.8494623655913927,\n",
       " -0.8494623655913927,\n",
       " -4.849462365591393,\n",
       " -2.8494623655913927,\n",
       " -1.8494623655913927,\n",
       " -0.8494623655913927,\n",
       " 6.150537634408607,\n",
       " 2.1505376344086073,\n",
       " 9.150537634408607,\n",
       " -0.8494623655913927,\n",
       " -6.849462365591393,\n",
       " -4.849462365591393,\n",
       " -4.849462365591393,\n",
       " 2.1505376344086073,\n",
       " 1.1505376344086073,\n",
       " -2.8494623655913927,\n",
       " 2.1505376344086073,\n",
       " -8.849462365591393,\n",
       " 1.1505376344086073,\n",
       " 12.150537634408607,\n",
       " -4.849462365591393,\n",
       " -4.849462365591393,\n",
       " 0.15053763440860735]"
      ]
     },
     "execution_count": 19,
     "metadata": {},
     "output_type": "execute_result"
    }
   ],
   "source": [
    "편차"
   ]
  },
  {
   "cell_type": "code",
   "execution_count": 21,
   "id": "b88167ed-0cab-4a74-a690-7a12865d6bf5",
   "metadata": {},
   "outputs": [
    {
     "data": {
      "text/plain": [
       "4.831690603168681e-13"
      ]
     },
     "execution_count": 21,
     "metadata": {},
     "output_type": "execute_result"
    }
   ],
   "source": [
    "#과학적표기법 = e-13 소수점 기준으로 왼쪽으로 13번 이동 0.00000000xx.. 즉 편차의 합은 0이다\n",
    "sum(편차)"
   ]
  },
  {
   "cell_type": "code",
   "execution_count": 25,
   "id": "fcb8e82e-9365-45b4-8fd6-ba817b84edba",
   "metadata": {},
   "outputs": [],
   "source": [
    "#분산\n",
    "분산 = sum([x ** 2 for x in 편차])/len(kia)"
   ]
  },
  {
   "cell_type": "code",
   "execution_count": 26,
   "id": "8b67b70a-2263-4841-af64-47f7fbdd0462",
   "metadata": {},
   "outputs": [],
   "source": [
    "#표준편차(** 0.5 = 루트)\n",
    "표준편차 = (sum([x ** 2 for x in 편차])/len(kia)) ** 0.5"
   ]
  },
  {
   "cell_type": "code",
   "execution_count": 32,
   "id": "ceaaffd9-55d0-40b1-9a83-46cd1ec98e45",
   "metadata": {},
   "outputs": [
    {
     "name": "stdout",
     "output_type": "stream",
     "text": [
      "kia 구단의 평균은 182.8494623655914이고, 분산은 23.848306162562157이며, 표준편차는 4.8834727564062606입니다.\n"
     ]
    }
   ],
   "source": [
    "print(f\"\"\"kia 구단의 평균은 {kia_avg}이고, 분산은 {분산}이며, 표준편차는 {표준편차}입니다.\"\"\")"
   ]
  },
  {
   "cell_type": "code",
   "execution_count": 33,
   "id": "ce5db0f2-cc03-4ec8-9478-0b98d2f5f043",
   "metadata": {
    "scrolled": true
   },
   "outputs": [
    {
     "data": {
      "text/plain": [
       "[165,\n",
       " 172,\n",
       " 173,\n",
       " 174,\n",
       " 175,\n",
       " 176,\n",
       " 176,\n",
       " 176,\n",
       " 177,\n",
       " 177,\n",
       " 178,\n",
       " 178,\n",
       " 178,\n",
       " 178,\n",
       " 178,\n",
       " 178,\n",
       " 178,\n",
       " 178,\n",
       " 178,\n",
       " 180,\n",
       " 180,\n",
       " 180,\n",
       " 180,\n",
       " 180,\n",
       " 180,\n",
       " 180,\n",
       " 180,\n",
       " 181,\n",
       " 181,\n",
       " 181,\n",
       " 181,\n",
       " 181,\n",
       " 182,\n",
       " 182,\n",
       " 182,\n",
       " 182,\n",
       " 182,\n",
       " 182,\n",
       " 182,\n",
       " 182,\n",
       " 182,\n",
       " 182,\n",
       " 183,\n",
       " 183,\n",
       " 183,\n",
       " 183,\n",
       " 183,\n",
       " 183,\n",
       " 183,\n",
       " 183,\n",
       " 183,\n",
       " 184,\n",
       " 184,\n",
       " 184,\n",
       " 184,\n",
       " 184,\n",
       " 184,\n",
       " 184,\n",
       " 184,\n",
       " 184,\n",
       " 184,\n",
       " 185,\n",
       " 185,\n",
       " 185,\n",
       " 185,\n",
       " 185,\n",
       " 185,\n",
       " 185,\n",
       " 185,\n",
       " 185,\n",
       " 186,\n",
       " 186,\n",
       " 187,\n",
       " 187,\n",
       " 187,\n",
       " 187,\n",
       " 187,\n",
       " 187,\n",
       " 187,\n",
       " 188,\n",
       " 188,\n",
       " 188,\n",
       " 188,\n",
       " 189,\n",
       " 189,\n",
       " 190,\n",
       " 190,\n",
       " 190,\n",
       " 191,\n",
       " 192,\n",
       " 193,\n",
       " 193,\n",
       " 195]"
      ]
     },
     "execution_count": 33,
     "metadata": {},
     "output_type": "execute_result"
    }
   ],
   "source": [
    "sorted(map(int, kia))"
   ]
  },
  {
   "cell_type": "code",
   "execution_count": 42,
   "id": "2f38fd2f-0313-483c-9ca4-b3efd9b7850c",
   "metadata": {},
   "outputs": [
    {
     "data": {
      "text/plain": [
       "183"
      ]
     },
     "execution_count": 42,
     "metadata": {},
     "output_type": "execute_result"
    }
   ],
   "source": [
    "sorted(map(int, kia))[int(len(kia) / 2)]"
   ]
  },
  {
   "cell_type": "code",
   "execution_count": 44,
   "id": "beda07e6-eff4-4ba8-a928-2def75f716d1",
   "metadata": {},
   "outputs": [],
   "source": [
    "kia_np = np.array(list(map(int, kia)))"
   ]
  },
  {
   "cell_type": "code",
   "execution_count": 45,
   "id": "dab133ba-06c5-43bf-86e9-932319a328a6",
   "metadata": {},
   "outputs": [
    {
     "data": {
      "text/plain": [
       "array([185, 181, 190, 178, 184, 185, 187, 183, 183, 184, 187, 183, 188,\n",
       "       183, 177, 186, 188, 182, 182, 187, 165, 180, 182, 187, 176, 184,\n",
       "       182, 180, 185, 178, 183, 193, 190, 193, 184, 178, 180, 175, 181,\n",
       "       178, 185, 176, 180, 188, 190, 183, 191, 183, 172, 187, 186, 185,\n",
       "       184, 189, 181, 187, 180, 188, 182, 183, 187, 182, 184, 182, 185,\n",
       "       184, 177, 173, 181, 184, 180, 182, 178, 180, 181, 182, 189, 185,\n",
       "       192, 182, 176, 178, 178, 185, 184, 180, 185, 174, 184, 195, 178,\n",
       "       178, 183])"
      ]
     },
     "execution_count": 45,
     "metadata": {},
     "output_type": "execute_result"
    }
   ],
   "source": [
    "kia_np"
   ]
  },
  {
   "cell_type": "code",
   "execution_count": 48,
   "id": "dc4948b3-aae6-4bca-b2b8-7338af71c946",
   "metadata": {
    "scrolled": true
   },
   "outputs": [
    {
     "data": {
      "text/plain": [
       "array([  2.15053763,  -1.84946237,   7.15053763,  -4.84946237,\n",
       "         1.15053763,   2.15053763,   4.15053763,   0.15053763,\n",
       "         0.15053763,   1.15053763,   4.15053763,   0.15053763,\n",
       "         5.15053763,   0.15053763,  -5.84946237,   3.15053763,\n",
       "         5.15053763,  -0.84946237,  -0.84946237,   4.15053763,\n",
       "       -17.84946237,  -2.84946237,  -0.84946237,   4.15053763,\n",
       "        -6.84946237,   1.15053763,  -0.84946237,  -2.84946237,\n",
       "         2.15053763,  -4.84946237,   0.15053763,  10.15053763,\n",
       "         7.15053763,  10.15053763,   1.15053763,  -4.84946237,\n",
       "        -2.84946237,  -7.84946237,  -1.84946237,  -4.84946237,\n",
       "         2.15053763,  -6.84946237,  -2.84946237,   5.15053763,\n",
       "         7.15053763,   0.15053763,   8.15053763,   0.15053763,\n",
       "       -10.84946237,   4.15053763,   3.15053763,   2.15053763,\n",
       "         1.15053763,   6.15053763,  -1.84946237,   4.15053763,\n",
       "        -2.84946237,   5.15053763,  -0.84946237,   0.15053763,\n",
       "         4.15053763,  -0.84946237,   1.15053763,  -0.84946237,\n",
       "         2.15053763,   1.15053763,  -5.84946237,  -9.84946237,\n",
       "        -1.84946237,   1.15053763,  -2.84946237,  -0.84946237,\n",
       "        -4.84946237,  -2.84946237,  -1.84946237,  -0.84946237,\n",
       "         6.15053763,   2.15053763,   9.15053763,  -0.84946237,\n",
       "        -6.84946237,  -4.84946237,  -4.84946237,   2.15053763,\n",
       "         1.15053763,  -2.84946237,   2.15053763,  -8.84946237,\n",
       "         1.15053763,  12.15053763,  -4.84946237,  -4.84946237,\n",
       "         0.15053763])"
      ]
     },
     "execution_count": 48,
     "metadata": {},
     "output_type": "execute_result"
    }
   ],
   "source": [
    "#파이썬에서는 지원해주지않지만, numpy는 지원해줌 = broadcasting 연산 = 벡터연산\n",
    "kia_np - kia_avg"
   ]
  },
  {
   "cell_type": "code",
   "execution_count": 43,
   "id": "8d5a501d-f84d-4605-86f1-ff813c536bd0",
   "metadata": {},
   "outputs": [
    {
     "data": {
      "text/plain": [
       "np.float64(182.8494623655914)"
      ]
     },
     "execution_count": 43,
     "metadata": {},
     "output_type": "execute_result"
    }
   ],
   "source": [
    "np.mean(list(map(int, kia)))"
   ]
  },
  {
   "cell_type": "code",
   "execution_count": 49,
   "id": "3220e46d-c473-4818-b9f8-8da18d714769",
   "metadata": {},
   "outputs": [
    {
     "data": {
      "text/plain": [
       "np.float64(4.831690603168681e-13)"
      ]
     },
     "execution_count": 49,
     "metadata": {},
     "output_type": "execute_result"
    }
   ],
   "source": [
    "(kia_np - kia_avg).sum()"
   ]
  },
  {
   "cell_type": "code",
   "execution_count": 50,
   "id": "123368a4-764a-4cdc-8e08-77af19262723",
   "metadata": {},
   "outputs": [
    {
     "data": {
      "text/plain": [
       "array([ True,  True,  True, False,  True,  True,  True,  True,  True,\n",
       "        True,  True,  True,  True,  True, False,  True,  True,  True,\n",
       "        True,  True, False, False,  True,  True, False,  True,  True,\n",
       "       False,  True, False,  True,  True,  True,  True,  True, False,\n",
       "       False, False,  True, False,  True, False, False,  True,  True,\n",
       "        True,  True,  True, False,  True,  True,  True,  True,  True,\n",
       "        True,  True, False,  True,  True,  True,  True,  True,  True,\n",
       "        True,  True,  True, False, False,  True,  True, False,  True,\n",
       "       False, False,  True,  True,  True,  True,  True,  True, False,\n",
       "       False, False,  True,  True, False,  True, False,  True,  True,\n",
       "       False, False,  True])"
      ]
     },
     "execution_count": 50,
     "metadata": {},
     "output_type": "execute_result"
    }
   ],
   "source": [
    "kia_np > 180"
   ]
  },
  {
   "cell_type": "code",
   "execution_count": 51,
   "id": "e0dfe934-65a7-48d8-b748-22c4343889f9",
   "metadata": {},
   "outputs": [
    {
     "data": {
      "text/plain": [
       "array([ True, False,  True, False,  True,  True,  True,  True,  True,\n",
       "        True,  True,  True,  True,  True, False,  True,  True, False,\n",
       "       False,  True, False, False, False,  True, False,  True, False,\n",
       "       False,  True, False,  True,  True,  True,  True,  True, False,\n",
       "       False, False, False, False,  True, False, False,  True,  True,\n",
       "        True,  True,  True, False,  True,  True,  True,  True,  True,\n",
       "       False,  True, False,  True, False,  True,  True, False,  True,\n",
       "       False,  True,  True, False, False, False,  True, False, False,\n",
       "       False, False, False, False,  True,  True,  True, False, False,\n",
       "       False, False,  True,  True, False,  True, False,  True,  True,\n",
       "       False, False,  True])"
      ]
     },
     "execution_count": 51,
     "metadata": {},
     "output_type": "execute_result"
    }
   ],
   "source": [
    "kia_np > kia_avg"
   ]
  },
  {
   "cell_type": "code",
   "execution_count": 53,
   "id": "dacd45a4-2077-4a75-aac5-311aba7fb34b",
   "metadata": {},
   "outputs": [
    {
     "data": {
      "text/plain": [
       "array([185, 190, 184, 185, 187, 183, 183, 184, 187, 183, 188, 183, 186,\n",
       "       188, 187, 187, 184, 185, 183, 193, 190, 193, 184, 185, 188, 190,\n",
       "       183, 191, 183, 187, 186, 185, 184, 189, 187, 188, 183, 187, 184,\n",
       "       185, 184, 184, 189, 185, 192, 185, 184, 185, 184, 195, 183])"
      ]
     },
     "execution_count": 53,
     "metadata": {},
     "output_type": "execute_result"
    }
   ],
   "source": [
    "#True값만 반환 \n",
    "kia_np[kia_np > kia_avg]"
   ]
  },
  {
   "cell_type": "code",
   "execution_count": 55,
   "id": "cf3e526f-1a1b-42ae-a275-f26d594bb51a",
   "metadata": {},
   "outputs": [
    {
     "data": {
      "text/plain": [
       "array([1, 2, 3, 4])"
      ]
     },
     "execution_count": 55,
     "metadata": {},
     "output_type": "execute_result"
    }
   ],
   "source": [
    "np.array([1,2,3,4])"
   ]
  },
  {
   "cell_type": "code",
   "execution_count": 56,
   "id": "b7767d4e-2a2d-4389-a02e-89c9c6e22a54",
   "metadata": {},
   "outputs": [
    {
     "data": {
      "text/plain": [
       "(4,)"
      ]
     },
     "execution_count": 56,
     "metadata": {},
     "output_type": "execute_result"
    }
   ],
   "source": [
    "#형상 확인 \n",
    "np.array([1,2,3,4]).shape"
   ]
  },
  {
   "cell_type": "code",
   "execution_count": 57,
   "id": "4a955d75-f2bb-4629-bc7e-2bc16ab11354",
   "metadata": {},
   "outputs": [
    {
     "data": {
      "text/plain": [
       "1"
      ]
     },
     "execution_count": 57,
     "metadata": {},
     "output_type": "execute_result"
    }
   ],
   "source": [
    "#차원 확인\n",
    "np.array([1,2,3,4]).ndim"
   ]
  },
  {
   "cell_type": "code",
   "execution_count": 61,
   "id": "3513a4c9-ff53-4d05-80db-67586101040f",
   "metadata": {},
   "outputs": [
    {
     "data": {
      "text/plain": [
       "array([1. , 1.1, 1.2, 1.3, 1.4, 1.5, 1.6, 1.7, 1.8, 1.9, 2. , 2.1, 2.2,\n",
       "       2.3, 2.4, 2.5, 2.6, 2.7, 2.8, 2.9, 3. , 3.1, 3.2, 3.3, 3.4, 3.5,\n",
       "       3.6, 3.7, 3.8, 3.9, 4. , 4.1, 4.2, 4.3, 4.4, 4.5, 4.6, 4.7, 4.8,\n",
       "       4.9, 5. , 5.1, 5.2, 5.3, 5.4, 5.5, 5.6, 5.7, 5.8, 5.9, 6. , 6.1,\n",
       "       6.2, 6.3, 6.4, 6.5, 6.6, 6.7, 6.8, 6.9, 7. , 7.1, 7.2, 7.3, 7.4,\n",
       "       7.5, 7.6, 7.7, 7.8, 7.9, 8. , 8.1, 8.2, 8.3, 8.4, 8.5, 8.6, 8.7,\n",
       "       8.8, 8.9, 9. , 9.1, 9.2, 9.3, 9.4, 9.5, 9.6, 9.7, 9.8, 9.9])"
      ]
     },
     "execution_count": 61,
     "metadata": {},
     "output_type": "execute_result"
    }
   ],
   "source": [
    "#숫자를 만들어줘\n",
    "np.arange(1,10, 0.1)"
   ]
  },
  {
   "cell_type": "code",
   "execution_count": 63,
   "id": "b61858ca-a6c8-4546-9c1e-80e87c268624",
   "metadata": {},
   "outputs": [
    {
     "data": {
      "text/plain": [
       "array([[1, 2],\n",
       "       [3, 4]])"
      ]
     },
     "execution_count": 63,
     "metadata": {},
     "output_type": "execute_result"
    }
   ],
   "source": [
    "np.array([[1,2], [3,4]])"
   ]
  },
  {
   "cell_type": "code",
   "execution_count": 64,
   "id": "6835602f-cf40-4848-82ff-5f5ddc35260e",
   "metadata": {},
   "outputs": [
    {
     "data": {
      "text/plain": [
       "(2, 2)"
      ]
     },
     "execution_count": 64,
     "metadata": {},
     "output_type": "execute_result"
    }
   ],
   "source": [
    "np.array([[1,2], [3,4]]).shape"
   ]
  },
  {
   "cell_type": "code",
   "execution_count": 65,
   "id": "881f4d8d-550d-4cdd-9485-296a4c0cc8dd",
   "metadata": {},
   "outputs": [
    {
     "data": {
      "text/plain": [
       "array([[ 0,  1,  2,  3],\n",
       "       [ 4,  5,  6,  7],\n",
       "       [ 8,  9, 10, 11]])"
      ]
     },
     "execution_count": 65,
     "metadata": {},
     "output_type": "execute_result"
    }
   ],
   "source": [
    "np.arange(0,12).reshape(3,4)"
   ]
  },
  {
   "cell_type": "code",
   "execution_count": 66,
   "id": "47afeb98-9ad5-49aa-8e9b-9b126c622a7f",
   "metadata": {},
   "outputs": [
    {
     "data": {
      "text/plain": [
       "array([[ 0,  4,  8],\n",
       "       [ 1,  5,  9],\n",
       "       [ 2,  6, 10],\n",
       "       [ 3,  7, 11]])"
      ]
     },
     "execution_count": 66,
     "metadata": {},
     "output_type": "execute_result"
    }
   ],
   "source": [
    "np.arange(0,12).reshape(3,4).T"
   ]
  },
  {
   "cell_type": "code",
   "execution_count": 69,
   "id": "d5628a1d-ef0c-4464-a6d2-743abfc8d19b",
   "metadata": {},
   "outputs": [
    {
     "data": {
      "text/plain": [
       "array([[ 42,  48,  54],\n",
       "       [114, 136, 158],\n",
       "       [186, 224, 262]])"
      ]
     },
     "execution_count": 69,
     "metadata": {},
     "output_type": "execute_result"
    }
   ],
   "source": [
    "#배열 내적 연산(선형대수)\n",
    "np.dot(np.arange(0,12).reshape(3,4), np.arange(0,12).reshape(4,3))"
   ]
  },
  {
   "cell_type": "code",
   "execution_count": 71,
   "id": "5eac8cd0-e31b-433d-a20e-02dfd38f3561",
   "metadata": {},
   "outputs": [
    {
     "data": {
      "text/plain": [
       "array([[ 0,  1,  2],\n",
       "       [ 3,  4,  5],\n",
       "       [ 6,  7,  8],\n",
       "       [ 9, 10, 11]])"
      ]
     },
     "execution_count": 71,
     "metadata": {},
     "output_type": "execute_result"
    }
   ],
   "source": [
    "np.arange(0,12).reshape(4,-1)"
   ]
  },
  {
   "cell_type": "code",
   "execution_count": 73,
   "id": "1bc38fe9-e5e4-430b-b1b7-a58de518db43",
   "metadata": {},
   "outputs": [
    {
     "data": {
      "text/plain": [
       "array([[[ 0,  1,  2],\n",
       "        [ 3,  4,  5]],\n",
       "\n",
       "       [[ 6,  7,  8],\n",
       "        [ 9, 10, 11]]])"
      ]
     },
     "execution_count": 73,
     "metadata": {},
     "output_type": "execute_result"
    }
   ],
   "source": [
    "#3차원, 2에 2*2-1(=3)을 만들어줌 \n",
    "np.arange(0,12).reshape(2,2,-1)"
   ]
  },
  {
   "cell_type": "code",
   "execution_count": 75,
   "id": "9ca5eef9-2f60-400b-a8e6-b8a91cc28f2b",
   "metadata": {},
   "outputs": [],
   "source": [
    "#리스트 안에 원소가 딕셔너리 형태인 것(반정형) -> 정형데이터로 변환시켜줌 \n",
    "import pandas as pd"
   ]
  },
  {
   "cell_type": "code",
   "execution_count": 76,
   "id": "6c24234f-efa5-4e9b-96c5-5ead2aecddc2",
   "metadata": {},
   "outputs": [],
   "source": [
    "kbo_df = pd.DataFrame(kbo_player)"
   ]
  },
  {
   "cell_type": "code",
   "execution_count": 77,
   "id": "ef3e9284-803b-4e49-8ce6-9acdf9810800",
   "metadata": {},
   "outputs": [
    {
     "data": {
      "text/html": [
       "<div>\n",
       "<style scoped>\n",
       "    .dataframe tbody tr th:only-of-type {\n",
       "        vertical-align: middle;\n",
       "    }\n",
       "\n",
       "    .dataframe tbody tr th {\n",
       "        vertical-align: top;\n",
       "    }\n",
       "\n",
       "    .dataframe thead th {\n",
       "        text-align: right;\n",
       "    }\n",
       "</style>\n",
       "<table border=\"1\" class=\"dataframe\">\n",
       "  <thead>\n",
       "    <tr style=\"text-align: right;\">\n",
       "      <th></th>\n",
       "      <th>선수명</th>\n",
       "      <th>등번호</th>\n",
       "      <th>생년월일</th>\n",
       "      <th>포지션</th>\n",
       "      <th>신장/체중</th>\n",
       "      <th>경력</th>\n",
       "      <th>입단 계약금</th>\n",
       "      <th>연봉</th>\n",
       "      <th>지명순위</th>\n",
       "      <th>입단년도</th>\n",
       "      <th>team</th>\n",
       "      <th>신장</th>\n",
       "      <th>체중</th>\n",
       "    </tr>\n",
       "  </thead>\n",
       "  <tbody>\n",
       "    <tr>\n",
       "      <th>0</th>\n",
       "      <td>강동훈</td>\n",
       "      <td>No.034</td>\n",
       "      <td>2000년 11월 23일</td>\n",
       "      <td>투수(우투우타)</td>\n",
       "      <td>185cm/98kg</td>\n",
       "      <td>천안남산초-청주중-청주고-중앙대</td>\n",
       "      <td>7000만원</td>\n",
       "      <td>3000만원</td>\n",
       "      <td>24 KIA 5라운드 46순위</td>\n",
       "      <td></td>\n",
       "      <td>KIA 타이거즈</td>\n",
       "      <td>185</td>\n",
       "      <td>98</td>\n",
       "    </tr>\n",
       "    <tr>\n",
       "      <th>1</th>\n",
       "      <td>강민제</td>\n",
       "      <td>No.038</td>\n",
       "      <td>2005년 02월 10일</td>\n",
       "      <td>내야수(우투우타)</td>\n",
       "      <td>181cm/82kg</td>\n",
       "      <td>군산중앙초-군산중-군산상일고</td>\n",
       "      <td>4000만원</td>\n",
       "      <td>3000만원</td>\n",
       "      <td>24 KIA 9라운드 86순위</td>\n",
       "      <td></td>\n",
       "      <td>KIA 타이거즈</td>\n",
       "      <td>181</td>\n",
       "      <td>82</td>\n",
       "    </tr>\n",
       "    <tr>\n",
       "      <th>2</th>\n",
       "      <td>강이준</td>\n",
       "      <td>No.36</td>\n",
       "      <td>1998년 04월 07일</td>\n",
       "      <td>투수(우투우타)</td>\n",
       "      <td>190cm/86kg</td>\n",
       "      <td>발산초-덕수중-구리인창고-KIA-상무</td>\n",
       "      <td>7000만원</td>\n",
       "      <td>3000만원</td>\n",
       "      <td>17 KIA 2차 4라운드 34순위</td>\n",
       "      <td>19KIA</td>\n",
       "      <td>KIA 타이거즈</td>\n",
       "      <td>190</td>\n",
       "      <td>86</td>\n",
       "    </tr>\n",
       "  </tbody>\n",
       "</table>\n",
       "</div>"
      ],
      "text/plain": [
       "   선수명     등번호           생년월일        포지션       신장/체중                    경력  \\\n",
       "0  강동훈  No.034  2000년 11월 23일   투수(우투우타)  185cm/98kg     천안남산초-청주중-청주고-중앙대   \n",
       "1  강민제  No.038  2005년 02월 10일  내야수(우투우타)  181cm/82kg       군산중앙초-군산중-군산상일고   \n",
       "2  강이준   No.36  1998년 04월 07일   투수(우투우타)  190cm/86kg  발산초-덕수중-구리인창고-KIA-상무   \n",
       "\n",
       "   입단 계약금      연봉                 지명순위   입단년도      team   신장  체중  \n",
       "0  7000만원  3000만원     24 KIA 5라운드 46순위         KIA 타이거즈  185  98  \n",
       "1  4000만원  3000만원     24 KIA 9라운드 86순위         KIA 타이거즈  181  82  \n",
       "2  7000만원  3000만원  17 KIA 2차 4라운드 34순위  19KIA  KIA 타이거즈  190  86  "
      ]
     },
     "execution_count": 77,
     "metadata": {},
     "output_type": "execute_result"
    }
   ],
   "source": [
    "kbo_df.head(3)"
   ]
  },
  {
   "cell_type": "code",
   "execution_count": 78,
   "id": "4448cc11-be6f-4239-8732-62f35c295a06",
   "metadata": {},
   "outputs": [],
   "source": [
    "import sqlalchemy\n",
    "from urllib import parse\n",
    "\n",
    "user = 'encore'\n",
    "password = '1234'\n",
    "host='127.0.0.1'\n",
    "port = 3306\n",
    "database = 'encore'\n",
    "password = parse.quote_plus(password)\n",
    "engine = sqlalchemy.create_engine(f\"mysql://{user}:{password}@{host}:{port}/{database}\")"
   ]
  },
  {
   "cell_type": "code",
   "execution_count": 79,
   "id": "17f5d857-fb30-45b5-b278-8493629b0bdc",
   "metadata": {},
   "outputs": [
    {
     "data": {
      "text/plain": [
       "916"
      ]
     },
     "execution_count": 79,
     "metadata": {},
     "output_type": "execute_result"
    }
   ],
   "source": [
    "kbo_df.to_sql(\"kbo\", if_exists='replace', con=engine)"
   ]
  },
  {
   "cell_type": "code",
   "execution_count": null,
   "id": "56e978f6-dc15-48bf-b976-5b7a60e06b19",
   "metadata": {},
   "outputs": [],
   "source": []
  }
 ],
 "metadata": {
  "kernelspec": {
   "display_name": "Python 3 (ipykernel)",
   "language": "python",
   "name": "python3"
  },
  "language_info": {
   "codemirror_mode": {
    "name": "ipython",
    "version": 3
   },
   "file_extension": ".py",
   "mimetype": "text/x-python",
   "name": "python",
   "nbconvert_exporter": "python",
   "pygments_lexer": "ipython3",
   "version": "3.10.15"
  }
 },
 "nbformat": 4,
 "nbformat_minor": 5
}
