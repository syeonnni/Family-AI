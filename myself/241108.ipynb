{
 "cells": [
  {
   "cell_type": "code",
   "execution_count": 1,
   "id": "5c64d3a0-7fd8-44db-b564-263d623d1af8",
   "metadata": {},
   "outputs": [],
   "source": [
    "import os \n",
    "import zipfile "
   ]
  },
  {
   "cell_type": "code",
   "execution_count": 2,
   "id": "d2b65f0c-116f-4299-bc65-4e182d3f1e76",
   "metadata": {},
   "outputs": [
    {
     "data": {
      "text/plain": [
       "['tpss_bcycl_od_statnhm_202406.zip',\n",
       " 'tpss_bcycl_od_statnhm_202405.zip',\n",
       " 'tpss_bcycl_od_statnhm_202402.zip',\n",
       " 'tpss_bcycl_od_statnhm_202408.zip',\n",
       " 'tpss_bcycl_od_statnhm_202401.zip',\n",
       " 'total_kbo_player.pkl',\n",
       " 'tpss_bcycl_od_statnhm_202407.zip',\n",
       " 'tpss_bcycl_od_statnhm_202403.zip',\n",
       " 'tpss_bcycl_od_statnhm_202409.zip',\n",
       " 'tpss_bcycl_od_statnhm_202404.zip']"
      ]
     },
     "execution_count": 2,
     "metadata": {},
     "output_type": "execute_result"
    }
   ],
   "source": [
    "os.listdir(\"/home/encore/workspace/data\")"
   ]
  },
  {
   "cell_type": "code",
   "execution_count": 4,
   "id": "7467c3c0-6d94-4e1f-87db-636259fea7fc",
   "metadata": {},
   "outputs": [
    {
     "data": {
      "text/plain": [
       "['tpss_bcycl_od_statnhm_202406.zip',\n",
       " 'tpss_bcycl_od_statnhm_202405.zip',\n",
       " 'tpss_bcycl_od_statnhm_202402.zip',\n",
       " 'tpss_bcycl_od_statnhm_202408.zip',\n",
       " 'tpss_bcycl_od_statnhm_202401.zip',\n",
       " '.ipynb_checkpoints',\n",
       " 'tpss_bcycl_od_statnhm_202407.zip',\n",
       " 'tpss_bcycl_od_statnhm_202403.zip',\n",
       " 'tpss_bcycl_od_statnhm_202409.zip',\n",
       " 'tpss_bcycl_od_statnhm_202404.zip']"
      ]
     },
     "execution_count": 4,
     "metadata": {},
     "output_type": "execute_result"
    }
   ],
   "source": [
    "os.listdir(\"/home/encore/workspace/data\")"
   ]
  },
  {
   "cell_type": "code",
   "execution_count": 5,
   "id": "52e8c26d-9548-4b60-ba84-868e536050a5",
   "metadata": {},
   "outputs": [],
   "source": [
    "roots = \"/home/encore/workspace/data\""
   ]
  },
  {
   "cell_type": "code",
   "execution_count": 6,
   "id": "21a3ae04-25c1-4cc6-a10e-7b4252e1ea1a",
   "metadata": {},
   "outputs": [
    {
     "data": {
      "text/plain": [
       "'/home/encore/workspace/data/tpss_bcycl_od_statnhm_202406.zip'"
      ]
     },
     "execution_count": 6,
     "metadata": {},
     "output_type": "execute_result"
    }
   ],
   "source": [
    "roots + \"/\" + os.listdir(roots)[0]"
   ]
  },
  {
   "cell_type": "code",
   "execution_count": 7,
   "id": "dcd3d5ed-6303-4293-9aef-f35471b36e9d",
   "metadata": {},
   "outputs": [],
   "source": [
    "paths = roots + \"/\" + os.listdir(roots)[0]"
   ]
  },
  {
   "cell_type": "code",
   "execution_count": 8,
   "id": "439d4091-7b96-4915-9e12-45892af09693",
   "metadata": {},
   "outputs": [
    {
     "data": {
      "text/plain": [
       "'/home/encore/workspace/data/tpss_bcycl_od_statnhm_202406.zip'"
      ]
     },
     "execution_count": 8,
     "metadata": {},
     "output_type": "execute_result"
    }
   ],
   "source": [
    "paths"
   ]
  },
  {
   "cell_type": "code",
   "execution_count": 11,
   "id": "2ed931ef-3eae-4261-9c58-66a75a84336f",
   "metadata": {},
   "outputs": [],
   "source": [
    "zipFile = zipfile.ZipFile(paths)"
   ]
  },
  {
   "cell_type": "code",
   "execution_count": 12,
   "id": "1c881337-22ee-431f-9e2c-adfa32b92a1f",
   "metadata": {},
   "outputs": [],
   "source": [
    "zipFile.extractall(\"/home/encore/aaa\")"
   ]
  },
  {
   "cell_type": "code",
   "execution_count": 13,
   "id": "44fa1630-8e5c-49e6-8061-005ed5dc9228",
   "metadata": {},
   "outputs": [
    {
     "data": {
      "text/plain": [
       "'/home/encore/workspace/data/tpss_bcycl_od_statnhm_202405.zip'"
      ]
     },
     "execution_count": 13,
     "metadata": {},
     "output_type": "execute_result"
    }
   ],
   "source": [
    "roots + \"/\" + os.listdir(roots)[1]"
   ]
  },
  {
   "cell_type": "code",
   "execution_count": 15,
   "id": "c98dd5b5-18aa-48aa-aaba-1ee875dd9402",
   "metadata": {},
   "outputs": [],
   "source": [
    "for i in range(1, 5):\n",
    "    paths = roots + \"/\" + os.listdir(roots)[i]\n",
    "    zipFile = zipfile.ZipFile(paths)\n",
    "    zipFile.extractall(\"/home/encore/aaa\")"
   ]
  },
  {
   "cell_type": "code",
   "execution_count": 21,
   "id": "c7ebc6cd-27cd-46cc-a9ce-dbf21ee42b7d",
   "metadata": {},
   "outputs": [],
   "source": [
    "paths = roots + \"/\" + os.listdir(roots)[6]"
   ]
  },
  {
   "cell_type": "code",
   "execution_count": 22,
   "id": "c9815064-459e-4835-a996-1118d1a575d4",
   "metadata": {},
   "outputs": [
    {
     "data": {
      "text/plain": [
       "'/home/encore/workspace/data/tpss_bcycl_od_statnhm_202407.zip'"
      ]
     },
     "execution_count": 22,
     "metadata": {},
     "output_type": "execute_result"
    }
   ],
   "source": [
    "paths"
   ]
  },
  {
   "cell_type": "code",
   "execution_count": 24,
   "id": "1ae154ba-4ea2-4801-80c9-9044a1b218fe",
   "metadata": {},
   "outputs": [],
   "source": [
    "paths = roots + \"/\" + os.listdir(roots)[6]\n",
    "zipFile = zipfile.ZipFile(paths)\n",
    "zipFile.extractall(\"/home/encore/aaa\")"
   ]
  },
  {
   "cell_type": "code",
   "execution_count": 27,
   "id": "d039ae31-96b9-48a8-b42b-647ca272b49d",
   "metadata": {},
   "outputs": [],
   "source": [
    "from tqdm import tqdm\n",
    "cnt = 0\n",
    "for file in os.listdir(\"/home/encore/bicycle/\"):\n",
    "    if file.split(\".\")[-1] == \"csv\":\n",
    "        with open(\"/home/encore/bicycle/\" + file, \"r\", encoding='euc-kr') as f:\n",
    "            for x in f:\n",
    "                cnt += 1"
   ]
  },
  {
   "cell_type": "code",
   "execution_count": 28,
   "id": "ce5d6e8c-6b3f-4895-bafe-dee06d1a64b0",
   "metadata": {},
   "outputs": [
    {
     "data": {
      "text/plain": [
       "61779853"
      ]
     },
     "execution_count": 28,
     "metadata": {},
     "output_type": "execute_result"
    }
   ],
   "source": [
    "cnt"
   ]
  },
  {
   "cell_type": "code",
   "execution_count": 29,
   "id": "7b7305cf-b6a3-4a57-8a8b-08fea167c6d2",
   "metadata": {},
   "outputs": [
    {
     "data": {
      "text/plain": [
       "'\"20240826\",\"도착시간\",\"2355\",\"ST-994\",\"목1동_005_2\",\"ST-1006\",\"목5동_005_1\",\"1\",\"8\",\"810\"\\n'"
      ]
     },
     "execution_count": 29,
     "metadata": {},
     "output_type": "execute_result"
    }
   ],
   "source": [
    "x"
   ]
  },
  {
   "cell_type": "code",
   "execution_count": 31,
   "id": "bf647630-a03e-46f6-86ba-e3f40dc15b8b",
   "metadata": {},
   "outputs": [
    {
     "data": {
      "text/plain": [
       "['20240826',\n",
       " '도착시간',\n",
       " '2355',\n",
       " 'ST-994',\n",
       " '목1동_005_2',\n",
       " 'ST-1006',\n",
       " '목5동_005_1',\n",
       " '1',\n",
       " '8',\n",
       " '810\\n']"
      ]
     },
     "execution_count": 31,
     "metadata": {},
     "output_type": "execute_result"
    }
   ],
   "source": [
    "list(map(lambda x : x.replace('\"', \"\"), x.split(\",\")))"
   ]
  },
  {
   "cell_type": "code",
   "execution_count": 33,
   "id": "a15c6a8f-226d-4f59-8034-f187513ba51f",
   "metadata": {},
   "outputs": [],
   "source": [
    "import MySQLdb\n",
    "\n",
    "con = MySQLdb.connect(host='localhost', user='encore', password='1234', db='encore')\n",
    "cursor = con.cursor()\n",
    "\n",
    "cursor.execute(\"\"\"CREATE TABLE bicycle (\n",
    "    date Date default NULL,\n",
    "    agg_basis VARCHAR(50) default NULL,\n",
    "    time_slot INT default NULL,\n",
    "    start_station_id VARCHAR(50) default NULL,\n",
    "    start_station_name VARCHAR(100) default NULL,\n",
    "    end_station_id VARCHAR(50) default NULL,\n",
    "    end_station_name VARCHAR(100) default NULL,\n",
    "    total_cnt INT default NULL,\n",
    "    total_min FLOAT default NULL,\n",
    "    total_distance FLOAT default NULL\n",
    ")\"\"\")\n",
    "con.commit()\n"
   ]
  },
  {
   "cell_type": "code",
   "execution_count": null,
   "id": "0990be15-a7ad-4175-9e5f-fc9a9e29a342",
   "metadata": {},
   "outputs": [],
   "source": [
    "\n",
    "sql = \"insert into bicycle values (%s, %s, %s, %s, %s, %s, %s, %s, %s, %s)\"\n",
    "from tqdm import tqdm \n",
    "cnt = 0\n",
    "for file in tqdm(os.listdir(\"/home/encore/bicycle/\")):\n",
    "    if file.split(\".\")[-1] == \"csv\":\n",
    "        with open(\"/home/encore/bicycle/\" + file, \"r\", encoding='euc-kr') as f:\n",
    "            cnt = 0 \n",
    "            for x in f:\n",
    "                if cnt == 0:\n",
    "                    cnt += 1\n",
    "                    continue\n",
    "                tmp  = map(lambda x : x if len(x) > 0 else None , map(lambda x : x.replace('\"', \"\"), x.strip().split(\",\")))\n",
    "                cursor.execute(sql,tmp)\n",
    "    con.commit()"
   ]
  },
  {
   "cell_type": "code",
   "execution_count": null,
   "id": "94cb693f-5acc-4931-908b-34ea46bac608",
   "metadata": {},
   "outputs": [],
   "source": [
    "sql = \"insert into bicycle values (%s, %s, %s, %s, %s, %s, %s, %s, %s, %s)\"\n",
    "from tqdm import tqdm \n",
    "import csv \n",
    "cnt = 0\n",
    "for file in tqdm(os.listdir(\"/home/encore/bicycle/\")):\n",
    "    if file.split(\".\")[-1] == \"csv\":\n",
    "        with open(\"/home/encore/bicycle/\" + file, \"r\", encoding='euc-kr') as f:\n",
    "            reader = csv.reader(f)\n",
    "            for row in reader:\n",
    "                try:\n",
    "                    cursor.execute(sql,row)\n",
    "                except Exception as e:\n",
    "                    print(e)\n",
    "                    print(file)\n"
   ]
  }
 ],
 "metadata": {
  "kernelspec": {
   "display_name": "Python 3 (ipykernel)",
   "language": "python",
   "name": "python3"
  },
  "language_info": {
   "codemirror_mode": {
    "name": "ipython",
    "version": 3
   },
   "file_extension": ".py",
   "mimetype": "text/x-python",
   "name": "python",
   "nbconvert_exporter": "python",
   "pygments_lexer": "ipython3",
   "version": "3.10.15"
  }
 },
 "nbformat": 4,
 "nbformat_minor": 5
}
