{
 "cells": [
  {
   "cell_type": "markdown",
   "id": "6ac91443-5b2a-4ba8-ac3e-12a33d4e7f14",
   "metadata": {},
   "source": [
    "타이타닉 데이터로 딥러닝 구현하기 with pytorch"
   ]
  },
  {
   "cell_type": "code",
   "execution_count": null,
   "id": "d268349c-34d8-4393-b857-f49a2787ee32",
   "metadata": {},
   "outputs": [],
   "source": []
  }
 ],
 "metadata": {
  "kernelspec": {
   "display_name": "pytorch",
   "language": "python",
   "name": "pytorch"
  },
  "language_info": {
   "codemirror_mode": {
    "name": "ipython",
    "version": 3
   },
   "file_extension": ".py",
   "mimetype": "text/x-python",
   "name": "python",
   "nbconvert_exporter": "python",
   "pygments_lexer": "ipython3",
   "version": "3.10.15"
  }
 },
 "nbformat": 4,
 "nbformat_minor": 5
}
