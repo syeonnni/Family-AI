{
 "cells": [
  {
   "cell_type": "markdown",
   "id": "6614ef70-4bd1-4f99-8165-c075d5a696e7",
   "metadata": {},
   "source": [
    "Generator"
   ]
  },
  {
   "cell_type": "code",
   "execution_count": 1,
   "id": "142fa802-a42c-466d-a914-cbef38a3d037",
   "metadata": {},
   "outputs": [],
   "source": [
    "a = [1,2,3,4,5]"
   ]
  },
  {
   "cell_type": "code",
   "execution_count": 2,
   "id": "553a1118-c386-4a73-a3a2-173edef2176a",
   "metadata": {},
   "outputs": [],
   "source": [
    "iter_a = iter(a)"
   ]
  },
  {
   "cell_type": "code",
   "execution_count": 3,
   "id": "8db3ac31-8bad-4f1c-932e-ddce8a779638",
   "metadata": {},
   "outputs": [
    {
     "data": {
      "text/plain": [
       "list_iterator"
      ]
     },
     "execution_count": 3,
     "metadata": {},
     "output_type": "execute_result"
    }
   ],
   "source": [
    "type(iter_a)"
   ]
  },
  {
   "cell_type": "code",
   "execution_count": 4,
   "id": "29559aa7-34f7-48af-a52f-089e93c64d20",
   "metadata": {},
   "outputs": [
    {
     "data": {
      "text/plain": [
       "1"
      ]
     },
     "execution_count": 4,
     "metadata": {},
     "output_type": "execute_result"
    }
   ],
   "source": [
    "iter_a.__next__()"
   ]
  },
  {
   "cell_type": "code",
   "execution_count": 5,
   "id": "5a507928-2d4a-44aa-8930-b4b1ba491678",
   "metadata": {},
   "outputs": [
    {
     "name": "stdout",
     "output_type": "stream",
     "text": [
      "1\n",
      "2\n",
      "3\n",
      "4\n",
      "5\n"
     ]
    }
   ],
   "source": [
    "for x in a:\n",
    "    print(x)"
   ]
  },
  {
   "cell_type": "code",
   "execution_count": 6,
   "id": "ce249bec-fd40-400f-956e-156764aedc60",
   "metadata": {},
   "outputs": [],
   "source": [
    "def test_gen():\n",
    "    print(\"test\")\n",
    "    yield \"입니다.\"\n",
    "    print(\"이 값은 출력될까?\")"
   ]
  },
  {
   "cell_type": "code",
   "execution_count": 7,
   "id": "7f81faaf-b633-44ee-af58-428673eb9f43",
   "metadata": {},
   "outputs": [
    {
     "data": {
      "text/plain": [
       "<function __main__.test_gen()>"
      ]
     },
     "execution_count": 7,
     "metadata": {},
     "output_type": "execute_result"
    }
   ],
   "source": [
    "test_gen"
   ]
  },
  {
   "cell_type": "code",
   "execution_count": 8,
   "id": "a6e6833c-5062-4e2e-a171-29722b8700d9",
   "metadata": {},
   "outputs": [
    {
     "data": {
      "text/plain": [
       "<generator object test_gen at 0x7f02c6c1d0e0>"
      ]
     },
     "execution_count": 8,
     "metadata": {},
     "output_type": "execute_result"
    }
   ],
   "source": [
    "iter(test_gen())"
   ]
  },
  {
   "cell_type": "code",
   "execution_count": 10,
   "id": "2a5ad118-bc27-4988-9d17-b2a447000724",
   "metadata": {},
   "outputs": [],
   "source": [
    "#co-routine\n",
    "gen = iter(test_gen())"
   ]
  },
  {
   "cell_type": "code",
   "execution_count": 11,
   "id": "e56f3cf2-ed0a-4f6b-bcc6-a555a1a534bb",
   "metadata": {},
   "outputs": [
    {
     "name": "stdout",
     "output_type": "stream",
     "text": [
      "test\n"
     ]
    },
    {
     "data": {
      "text/plain": [
       "'입니다.'"
      ]
     },
     "execution_count": 11,
     "metadata": {},
     "output_type": "execute_result"
    }
   ],
   "source": [
    "next(gen)"
   ]
  },
  {
   "cell_type": "code",
   "execution_count": 12,
   "id": "2cbe1181-296b-4f53-aa83-02739e123714",
   "metadata": {},
   "outputs": [
    {
     "name": "stdout",
     "output_type": "stream",
     "text": [
      "이 값은 출력될까?\n"
     ]
    },
    {
     "ename": "StopIteration",
     "evalue": "",
     "output_type": "error",
     "traceback": [
      "\u001b[0;31m---------------------------------------------------------------------------\u001b[0m",
      "\u001b[0;31mStopIteration\u001b[0m                             Traceback (most recent call last)",
      "Cell \u001b[0;32mIn[12], line 1\u001b[0m\n\u001b[0;32m----> 1\u001b[0m \u001b[38;5;28;43mnext\u001b[39;49m\u001b[43m(\u001b[49m\u001b[43mgen\u001b[49m\u001b[43m)\u001b[49m\n",
      "\u001b[0;31mStopIteration\u001b[0m: "
     ]
    }
   ],
   "source": [
    "next(gen)"
   ]
  },
  {
   "cell_type": "code",
   "execution_count": 19,
   "id": "62fc3b2c-8d92-4eb5-8a78-e4d1e2ebdb0e",
   "metadata": {},
   "outputs": [],
   "source": [
    "def fibo():\n",
    "    a, b = 0, 1\n",
    "    while True:\n",
    "        yield a\n",
    "        a, b = b, a+b"
   ]
  },
  {
   "cell_type": "code",
   "execution_count": 20,
   "id": "800a81d1-240f-4d7b-92fb-c154e19971e7",
   "metadata": {},
   "outputs": [],
   "source": [
    "fibo_iter = iter(fibo())"
   ]
  },
  {
   "cell_type": "code",
   "execution_count": 30,
   "id": "94528747-dab4-41ec-83c5-6bc3dcb63096",
   "metadata": {},
   "outputs": [
    {
     "data": {
      "text/plain": [
       "34"
      ]
     },
     "execution_count": 30,
     "metadata": {},
     "output_type": "execute_result"
    }
   ],
   "source": [
    "next(fibo_iter)"
   ]
  },
  {
   "cell_type": "code",
   "execution_count": null,
   "id": "f1b0b4f1-7093-4f2e-8825-7c5fa17add2b",
   "metadata": {},
   "outputs": [],
   "source": []
  },
  {
   "cell_type": "code",
   "execution_count": null,
   "id": "cc47bd17-e758-477e-b4bd-046d64f35e2a",
   "metadata": {},
   "outputs": [],
   "source": []
  }
 ],
 "metadata": {
  "kernelspec": {
   "display_name": "Python 3 (ipykernel)",
   "language": "python",
   "name": "python3"
  },
  "language_info": {
   "codemirror_mode": {
    "name": "ipython",
    "version": 3
   },
   "file_extension": ".py",
   "mimetype": "text/x-python",
   "name": "python",
   "nbconvert_exporter": "python",
   "pygments_lexer": "ipython3",
   "version": "3.10.15"
  }
 },
 "nbformat": 4,
 "nbformat_minor": 5
}
