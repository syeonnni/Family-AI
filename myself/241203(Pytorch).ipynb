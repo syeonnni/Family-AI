{
 "cells": [
  {
   "cell_type": "markdown",
   "id": "2f100b0c-9a95-453c-b1d8-448e1a69ba2f",
   "metadata": {},
   "source": [
    "Pytorch"
   ]
  },
  {
   "cell_type": "code",
   "execution_count": 5,
   "id": "c7167f0e-d3dd-4394-a4b7-702d13b39a04",
   "metadata": {},
   "outputs": [],
   "source": [
    "import torch\n",
    "import torchvision\n",
    "from torchvision import transforms\n",
    "from torch.utils.data import DataLoader, TensorDataset\n",
    "import torch.nn as nn\n",
    "\n",
    "\n",
    "\n",
    "image_path = './'\n",
    "transform = transforms.Compose([transforms.ToTensor()])\n",
    "\n",
    "mnist_train_dataset = torchvision.datasets.MNIST(root=image_path,\n",
    "                                           train=True,\n",
    "                                           transform=transform,\n",
    "                                           download=True)\n",
    "mnist_test_dataset = torchvision.datasets.MNIST(root=image_path,\n",
    "                                           train=False,\n",
    "                                           transform=transform,\n",
    "                                           download=False)\n",
    "\n",
    "batch_size = 64\n",
    "torch.manual_seed(1)\n",
    "train_dl = DataLoader(mnist_train_dataset, batch_size, shuffle=True)"
   ]
  },
  {
   "cell_type": "code",
   "execution_count": 6,
   "id": "8e4e5242-e906-4d92-aa8d-1c593c3e6bcf",
   "metadata": {},
   "outputs": [],
   "source": [
    "#은닉층 생성  \n",
    "#입력층에서 1번째 파라미터로 갈 때 갯수 : 28*28*32 +32(bias값) \n",
    "#2번째 파라미터 : 32*16 + 16\n",
    "#3번째 파라미터 : 16*10 + 10 / 모두 더하면 ? 25,818 / tensorflow 파라미터와 동일 \n",
    "hidden_units = [32, 16]\n",
    "image_size = mnist_train_dataset[0][0].shape\n",
    "input_size = image_size[0] * image_size[1] * image_size[2]\n",
    "\n",
    "all_layers = [nn.Flatten()]\n",
    "for hidden_unit in hidden_units:\n",
    "    layer = nn.Linear(input_size, hidden_unit)\n",
    "    all_layers.append(layer)\n",
    "    all_layers.append(nn.ReLU())\n",
    "    input_size = hidden_unit\n",
    "\n",
    "#16뉴런을 10개로 \n",
    "all_layers.append(nn.Linear(hidden_units[-1], 10))\n",
    "model = nn.Sequential(*all_layers)"
   ]
  },
  {
   "cell_type": "code",
   "execution_count": 7,
   "id": "0cb28d72-2e8a-470e-9e48-510c4f311aa5",
   "metadata": {},
   "outputs": [],
   "source": [
    "#손실함수 생성\n",
    "loss_fn = nn.CrossEntropyLoss()\n",
    "optimizer = torch.optim.Adam(model.parameters(), lr=0.001)"
   ]
  },
  {
   "cell_type": "code",
   "execution_count": 8,
   "id": "a6917f74-b549-42db-a260-b3f29d77be90",
   "metadata": {},
   "outputs": [
    {
     "name": "stdout",
     "output_type": "stream",
     "text": [
      "에포크 0  정확도 0.8531\n",
      "에포크 1  정확도 0.9287\n",
      "에포크 2  정확도 0.9413\n",
      "에포크 3  정확도 0.9506\n",
      "에포크 4  정확도 0.9558\n",
      "에포크 5  정확도 0.9592\n",
      "에포크 6  정확도 0.9627\n",
      "에포크 7  정확도 0.9650\n",
      "에포크 8  정확도 0.9674\n",
      "에포크 9  정확도 0.9690\n",
      "에포크 10  정확도 0.9710\n",
      "에포크 11  정확도 0.9729\n",
      "에포크 12  정확도 0.9739\n",
      "에포크 13  정확도 0.9750\n",
      "에포크 14  정확도 0.9764\n",
      "에포크 15  정확도 0.9777\n",
      "에포크 16  정확도 0.9779\n",
      "에포크 17  정확도 0.9798\n",
      "에포크 18  정확도 0.9806\n",
      "에포크 19  정확도 0.9813\n"
     ]
    }
   ],
   "source": [
    "torch.manual_seed(1)\n",
    "num_epochs = 20\n",
    "#epochs : 데이터셋을 모두 소진하면 1 epoch \n",
    "for epoch in range(num_epochs):\n",
    "    accuracy_hist_train = 0\n",
    "    #Dataload로 만든 값 train_dl / 전체 값의 파라미터를 변경\n",
    "    for x_batch, y_batch in train_dl:\n",
    "        pred = model(x_batch)\n",
    "        #예측한 결과 값과 y값을 비교 / 사용한 함수 : CrossEntropyLoss\n",
    "        loss = loss_fn(pred, y_batch)\n",
    "        #역전파 \n",
    "        loss.backward()\n",
    "        #step하는 순간 업데이트 \n",
    "        optimizer.step()\n",
    "        #초기화 \n",
    "        optimizer.zero_grad()\n",
    "        #최종채점 \n",
    "        \n",
    "        is_correct = (torch.argmax(pred, dim=1) == y_batch).float()\n",
    "        accuracy_hist_train += is_correct.sum()\n",
    "    accuracy_hist_train /= len(train_dl.dataset)\n",
    "    print(f'에포크 {epoch}  정확도 {accuracy_hist_train:.4f}')"
   ]
  },
  {
   "cell_type": "code",
   "execution_count": 10,
   "id": "b4f55a36-64af-4965-8813-1a2b999878b6",
   "metadata": {},
   "outputs": [],
   "source": [
    "#검증 데이터를 생성하여 검증 \n",
    "pred = model(mnist_test_dataset.data / 255.)"
   ]
  },
  {
   "cell_type": "code",
   "execution_count": 11,
   "id": "35ff95ee-5168-4897-9baa-a893e88f8a0e",
   "metadata": {},
   "outputs": [
    {
     "data": {
      "text/plain": [
       "torch.Size([10000, 28, 28])"
      ]
     },
     "execution_count": 11,
     "metadata": {},
     "output_type": "execute_result"
    }
   ],
   "source": [
    "mnist_test_dataset.data.shape"
   ]
  },
  {
   "cell_type": "code",
   "execution_count": 12,
   "id": "2feb38fe-fc9e-42c5-8b13-9adac5735fc2",
   "metadata": {},
   "outputs": [
    {
     "data": {
      "text/plain": [
       "torch.Size([10000, 28, 28])"
      ]
     },
     "execution_count": 12,
     "metadata": {},
     "output_type": "execute_result"
    }
   ],
   "source": [
    "(mnist_test_dataset.data / 255.0).shape"
   ]
  },
  {
   "cell_type": "code",
   "execution_count": 14,
   "id": "db497e83-752d-4941-840a-b30441adb7ed",
   "metadata": {},
   "outputs": [
    {
     "name": "stdout",
     "output_type": "stream",
     "text": [
      "테스트 정확도: 0.9630\n"
     ]
    }
   ],
   "source": [
    "pred = model(mnist_test_dataset.data / 1.)\n",
    "\n",
    "is_correct = (torch.argmax(pred, dim=1) == mnist_test_dataset.targets).float()\n",
    "print(f'테스트 정확도: {is_correct.mean():.4f}')"
   ]
  },
  {
   "cell_type": "code",
   "execution_count": 16,
   "id": "6abce54e-278f-402b-b370-98c836e3013d",
   "metadata": {},
   "outputs": [
    {
     "data": {
      "text/plain": [
       "tensor([ -450.1693, -3686.1411,    59.7077,   122.5307, -5241.0640, -2194.6418,\n",
       "        -6346.5640,  2558.0928,  -289.6331,  -286.2918],\n",
       "       grad_fn=<SelectBackward0>)"
      ]
     },
     "execution_count": 16,
     "metadata": {},
     "output_type": "execute_result"
    }
   ],
   "source": [
    "pred[0]"
   ]
  },
  {
   "cell_type": "code",
   "execution_count": 17,
   "id": "58d6deba-f99a-4461-82c1-13dff35c8e10",
   "metadata": {},
   "outputs": [
    {
     "data": {
      "text/plain": [
       "tensor(-15754.1729, grad_fn=<SumBackward0>)"
      ]
     },
     "execution_count": 17,
     "metadata": {},
     "output_type": "execute_result"
    }
   ],
   "source": [
    "pred[0].sum()"
   ]
  },
  {
   "cell_type": "code",
   "execution_count": 18,
   "id": "d6e0372a-2d4d-4f6f-821e-785518bf01d7",
   "metadata": {},
   "outputs": [
    {
     "data": {
      "text/plain": [
       "tensor(7)"
      ]
     },
     "execution_count": 18,
     "metadata": {},
     "output_type": "execute_result"
    }
   ],
   "source": [
    "torch.argmax(pred[0])"
   ]
  },
  {
   "cell_type": "code",
   "execution_count": 19,
   "id": "580f0ee1-370f-4e4d-80fa-40cb053f48e6",
   "metadata": {},
   "outputs": [
    {
     "data": {
      "text/plain": [
       "tensor([7, 2, 1,  ..., 4, 5, 6])"
      ]
     },
     "execution_count": 19,
     "metadata": {},
     "output_type": "execute_result"
    }
   ],
   "source": [
    "#labelencoding 방식으로 사용됨\n",
    "mnist_test_dataset.targets"
   ]
  },
  {
   "cell_type": "code",
   "execution_count": 24,
   "id": "42576386-9595-499c-84e9-ea4fe7cbd891",
   "metadata": {},
   "outputs": [],
   "source": [
    "#클래스로 생성하기!\n",
    "#초기함수 \n",
    "class mnistnet(nn.Module):\n",
    "    def __init__(self):\n",
    "        super(mnistnet, self).__init__()\n",
    "        self.fc1 = nn.Linear(28 * 28, 32) \n",
    "        self.fc2 = nn.Linear(32, 16)\n",
    "        self.fc3 = nn.Linear(16, 10) \n",
    "        self.dropout_prob = 0.5 \n",
    "\n",
    "    def forward(self, x):\n",
    "        x = self.fc1(x.view(-1, 28*28))\n",
    "        x = nn.functional.relu(x)\n",
    "        x = nn.functional.dropout(x, taining=self.training, p=self.dropout_prob)\n",
    "        x = self.fc2(x)\n",
    "        x = nn.functional.relu(x)\n",
    "         = nn.functional.dropout(x, taining=self.training, p=self.dropout_prob)\n",
    "        x = self.fc3(x)\n",
    "        x = nn.functional.softmax(x, dim=1)\n",
    "        return x "
   ]
  },
  {
   "cell_type": "code",
   "execution_count": 26,
   "id": "ca6f59cc-d72b-4c65-9bed-5368246972f8",
   "metadata": {},
   "outputs": [],
   "source": [
    "import torch\n",
    "DEVICE = torch.device('cpu')\n",
    "model = mnistnet().to(DEVICE)"
   ]
  },
  {
   "cell_type": "code",
   "execution_count": 27,
   "id": "ec5367ff-ce38-47f7-9046-bb3081b8c6d2",
   "metadata": {},
   "outputs": [
    {
     "data": {
      "text/plain": [
       "mnistnet(\n",
       "  (fc1): Linear(in_features=784, out_features=32, bias=True)\n",
       "  (fc2): Linear(in_features=32, out_features=16, bias=True)\n",
       "  (fc3): Linear(in_features=16, out_features=10, bias=True)\n",
       ")"
      ]
     },
     "execution_count": 27,
     "metadata": {},
     "output_type": "execute_result"
    }
   ],
   "source": [
    "model"
   ]
  },
  {
   "cell_type": "code",
   "execution_count": 28,
   "id": "0108407e-2c55-4e96-82c4-f02174c206bb",
   "metadata": {},
   "outputs": [],
   "source": [
    "loss_fn = nn.CrossEntropyLoss()\n",
    "optimizer = torch.optim.Adam(model.parameters(), lr=0.001)"
   ]
  },
  {
   "cell_type": "code",
   "execution_count": 29,
   "id": "9ace8845-2abb-4acd-8ac1-d8b4fb3b26a8",
   "metadata": {},
   "outputs": [
    {
     "name": "stdout",
     "output_type": "stream",
     "text": [
      "에포크 0  정확도 0.8253\n",
      "에포크 1  정확도 0.9164\n",
      "에포크 2  정확도 0.9284\n",
      "에포크 3  정확도 0.9367\n",
      "에포크 4  정확도 0.9424\n",
      "에포크 5  정확도 0.9462\n",
      "에포크 6  정확도 0.9508\n",
      "에포크 7  정확도 0.9539\n",
      "에포크 8  정확도 0.9567\n",
      "에포크 9  정확도 0.9588\n",
      "에포크 10  정확도 0.9607\n",
      "에포크 11  정확도 0.9623\n",
      "에포크 12  정확도 0.9638\n",
      "에포크 13  정확도 0.9657\n",
      "에포크 14  정확도 0.9666\n",
      "에포크 15  정확도 0.9673\n",
      "에포크 16  정확도 0.9684\n",
      "에포크 17  정확도 0.9692\n",
      "에포크 18  정확도 0.9692\n",
      "에포크 19  정확도 0.9711\n"
     ]
    }
   ],
   "source": [
    "torch.manual_seed(1)\n",
    "num_epochs = 20\n",
    "#epochs : 데이터셋을 모두 소진하면 1 epoch \n",
    "for epoch in range(num_epochs):\n",
    "    accuracy_hist_train = 0\n",
    "    #Dataload로 만든 값 train_dl / 전체 값의 파라미터를 변경\n",
    "    for x_batch, y_batch in train_dl:\n",
    "        pred = model(x_batch)\n",
    "        #예측한 결과 값과 y값을 비교 / 사용한 함수 : CrossEntropyLoss\n",
    "        loss = loss_fn(pred, y_batch)\n",
    "        #역전파 \n",
    "        loss.backward()\n",
    "        #step하는 순간 업데이트 \n",
    "        optimizer.step()\n",
    "        #초기화 \n",
    "        optimizer.zero_grad()\n",
    "        #최종채점 \n",
    "        \n",
    "        is_correct = (torch.argmax(pred, dim=1) == y_batch).float()\n",
    "        accuracy_hist_train += is_correct.sum()\n",
    "    accuracy_hist_train /= len(train_dl.dataset)\n",
    "    print(f'에포크 {epoch}  정확도 {accuracy_hist_train:.4f}')"
   ]
  },
  {
   "cell_type": "code",
   "execution_count": 30,
   "id": "016bcafa-fbcc-4074-8c57-0bb9bd09ea10",
   "metadata": {},
   "outputs": [],
   "source": [
    "pred = model(mnist_test_dataset.data / 1.)"
   ]
  },
  {
   "cell_type": "code",
   "execution_count": 31,
   "id": "8006de2d-8982-4a9f-bf35-e18eec5f4d7b",
   "metadata": {},
   "outputs": [
    {
     "data": {
      "text/plain": [
       "tensor([0., 0., 0., 0., 0., 0., 0., 1., 0., 0.], grad_fn=<SelectBackward0>)"
      ]
     },
     "execution_count": 31,
     "metadata": {},
     "output_type": "execute_result"
    }
   ],
   "source": [
    "pred[0]"
   ]
  },
  {
   "cell_type": "code",
   "execution_count": 32,
   "id": "ffa9229f-1f54-4c13-8aa1-746141e8ea41",
   "metadata": {},
   "outputs": [
    {
     "name": "stdout",
     "output_type": "stream",
     "text": [
      "테스트 정확도: 0.9540\n"
     ]
    }
   ],
   "source": [
    "is_correct = (torch.argmax(pred, dim=1) == mnist_test_dataset.targets).float()\n",
    "print(f'테스트 정확도: {is_correct.mean():.4f}')"
   ]
  }
 ],
 "metadata": {
  "kernelspec": {
   "display_name": "pytorch",
   "language": "python",
   "name": "pytorch"
  },
  "language_info": {
   "codemirror_mode": {
    "name": "ipython",
    "version": 3
   },
   "file_extension": ".py",
   "mimetype": "text/x-python",
   "name": "python",
   "nbconvert_exporter": "python",
   "pygments_lexer": "ipython3",
   "version": "3.10.15"
  }
 },
 "nbformat": 4,
 "nbformat_minor": 5
}
