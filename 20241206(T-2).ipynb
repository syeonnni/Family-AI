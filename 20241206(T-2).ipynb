{
 "cells": [
  {
   "cell_type": "code",
   "execution_count": 1,
   "id": "82ebfff3-a8eb-470b-9541-b52c0fc60b0a",
   "metadata": {},
   "outputs": [],
   "source": [
    "class parent:\n",
    "    def hi(self):\n",
    "        print(\"Hello\")\n",
    "    def get_money(self):\n",
    "        print(\"상속\")\n",
    "\n",
    "class child(parent):\n",
    "    # method overriding\n",
    "    def hi(self):\n",
    "        super().hi()\n",
    "        print(\"나는 자식입니다.\")\n",
    "\n",
    "instance_a = child()"
   ]
  },
  {
   "cell_type": "code",
   "execution_count": 2,
   "id": "140977c3-e44e-4389-8ed6-9778fb961e16",
   "metadata": {},
   "outputs": [
    {
     "name": "stdout",
     "output_type": "stream",
     "text": [
      "Hello\n",
      "나는 자식입니다.\n"
     ]
    }
   ],
   "source": [
    "instance_a.hi()"
   ]
  },
  {
   "cell_type": "code",
   "execution_count": 3,
   "id": "152563fb-9814-464d-baa5-bf5c2c92ea0c",
   "metadata": {},
   "outputs": [
    {
     "name": "stdout",
     "output_type": "stream",
     "text": [
      "상속\n"
     ]
    }
   ],
   "source": [
    "instance_a.get_money()"
   ]
  },
  {
   "cell_type": "code",
   "execution_count": 4,
   "id": "f0533fac-4f85-44f6-8c14-c1c3c85539f9",
   "metadata": {},
   "outputs": [],
   "source": [
    "import torch \n",
    "from torch.utils.data import Dataset\n",
    "from torchvision import transforms\n",
    "import numpy as np\n",
    "import h5py"
   ]
  },
  {
   "cell_type": "code",
   "execution_count": 5,
   "id": "82c7f516-fbe9-4ced-aaca-34109c2d0548",
   "metadata": {},
   "outputs": [],
   "source": [
    "class Happy_Data(Dataset):\n",
    "    def __init__(self, train_path, type_=\"test\"):\n",
    "        train_happy = h5py.File(train_path, 'r')\n",
    "        if type_ == 'train':\n",
    "            # print(len(train_happy['train_set_x'][:]))\n",
    "            self.X_data  = np.array(train_happy['train_set_x'][:])\n",
    "            self.y_data  = np.array(train_happy['train_set_y'][:])\n",
    "        elif type_ == 'test':\n",
    "            # print(len(train_happy['test_set_x'][:]))\n",
    "            self.X_data  = np.array(train_happy['test_set_x'][:])\n",
    "            self.y_data  = np.array(train_happy['test_set_y'][:])\n",
    "        self.transform = transforms.Compose([\n",
    "            transforms.ToTensor(),\n",
    "            # transofrms.Normalize((R채널 평균, G채널 평균, B채널 평균), (R채널 표준편차, G채널 표준편차, B채널 표준편차))\n",
    "            transforms.Normalize((0.5, 0.5, 0.5), (0.5, 0.5, 0.5))\n",
    "        ])\n",
    "        \n",
    "    \n",
    "    def __getitem__(self, idx):\n",
    "        return self.transform(self.X_data[idx]) , torch.tensor(self.y_data[idx], dtype=torch.float32)\n",
    "\n",
    "    def __len__(self):\n",
    "        return len(self.X_data)"
   ]
  },
  {
   "cell_type": "code",
   "execution_count": 6,
   "id": "677adea5-abb3-4d84-ac7f-b599bcb9a455",
   "metadata": {},
   "outputs": [],
   "source": [
    "train = Happy_Data(\"./data/train_happy.h5\", \"train\")"
   ]
  },
  {
   "cell_type": "code",
   "execution_count": 7,
   "id": "45fe0e7d-8327-4c20-8ac5-e7881998053c",
   "metadata": {},
   "outputs": [
    {
     "data": {
      "text/plain": [
       "600"
      ]
     },
     "execution_count": 7,
     "metadata": {},
     "output_type": "execute_result"
    }
   ],
   "source": [
    "len(train)"
   ]
  },
  {
   "cell_type": "code",
   "execution_count": 8,
   "id": "f9193e2a-7a43-4ba4-8858-5cbea76c2c80",
   "metadata": {},
   "outputs": [],
   "source": [
    "test = Happy_Data(\"./data/test_happy.h5\", \"test\")"
   ]
  },
  {
   "cell_type": "code",
   "execution_count": 9,
   "id": "e6f10650-c585-4b80-aba7-9d80f943d973",
   "metadata": {},
   "outputs": [
    {
     "data": {
      "text/plain": [
       "150"
      ]
     },
     "execution_count": 9,
     "metadata": {},
     "output_type": "execute_result"
    }
   ],
   "source": [
    "len(test)"
   ]
  },
  {
   "cell_type": "code",
   "execution_count": 10,
   "id": "7e830700-e336-4b19-86d9-580efc7fcc05",
   "metadata": {},
   "outputs": [],
   "source": [
    "train_loader = torch.utils.data.DataLoader(dataset=train, batch_size=32, shuffle=True)\n",
    "test_loader = torch.utils.data.DataLoader(dataset=test,  batch_size=32, shuffle=True)"
   ]
  },
  {
   "cell_type": "code",
   "execution_count": 11,
   "id": "aaad053d-9ae7-4419-8134-d7a12ed93cdb",
   "metadata": {},
   "outputs": [],
   "source": [
    "tmp = next(iter(train_loader))"
   ]
  },
  {
   "cell_type": "code",
   "execution_count": 12,
   "id": "f5f961cc-9392-4b90-889c-c26412b6402a",
   "metadata": {
    "scrolled": true
   },
   "outputs": [
    {
     "data": {
      "text/plain": [
       "torch.Size([32, 3, 64, 64])"
      ]
     },
     "execution_count": 12,
     "metadata": {},
     "output_type": "execute_result"
    }
   ],
   "source": [
    "tmp[0].shape"
   ]
  },
  {
   "cell_type": "code",
   "execution_count": 13,
   "id": "2e005f17-15e9-46c6-ad9f-3fe7794dd422",
   "metadata": {},
   "outputs": [
    {
     "data": {
      "text/plain": [
       "tensor([0., 1., 1., 0., 0., 0., 0., 0., 1., 0., 1., 1., 0., 1., 1., 1., 0., 1.,\n",
       "        0., 1., 1., 1., 1., 1., 0., 1., 0., 0., 1., 0., 1., 0.])"
      ]
     },
     "execution_count": 13,
     "metadata": {},
     "output_type": "execute_result"
    }
   ],
   "source": [
    "tmp[1]"
   ]
  },
  {
   "cell_type": "code",
   "execution_count": 14,
   "id": "40a8cc21-8674-48f6-b4df-2a3c5141f9a6",
   "metadata": {},
   "outputs": [],
   "source": [
    "import torch.nn as nn"
   ]
  },
  {
   "cell_type": "code",
   "execution_count": 15,
   "id": "719cda70-b25b-45c9-9b7b-1d3c38f795bf",
   "metadata": {},
   "outputs": [],
   "source": [
    "import torch.nn.functional as F\n",
    "class CnnHappy(nn.Module):\n",
    "    def __init__(self):\n",
    "        super(CnnHappy, self).__init__()\n",
    "        self.conv1 = nn.Conv2d(in_channels=3, out_channels=8, kernel_size=3, padding=1)\n",
    "        self.conv2 = nn.Conv2d(in_channels=8, out_channels=16, kernel_size=3, padding=1)\n",
    "        self.pool  = nn.MaxPool2d(kernel_size=2, stride=2)\n",
    "        self.fc1   = nn.Linear(16 * 16 * 16, 128)\n",
    "        self.fc2   = nn.Linear(128, 32)\n",
    "        self.fc3   = nn.Linear(32,1)\n",
    "\n",
    "    def forward(self, x):\n",
    "        # CNN\n",
    "        x = self.conv1(x)\n",
    "        x = F.relu(x)\n",
    "        x = self.pool(x)\n",
    "        x = self.conv2(x)\n",
    "        x = F.relu(x)\n",
    "        x = self.pool(x)\n",
    "\n",
    "        #DNN \n",
    "        x = self.fc1(x.view(-1, 16* 16* 16))\n",
    "        x = F.relu(x)\n",
    "        x = self.fc2(x)\n",
    "        x = F.relu(x)\n",
    "        x = self.fc3(x)\n",
    "        x = F.sigmoid(x)\n",
    "\n",
    "        return x"
   ]
  },
  {
   "cell_type": "code",
   "execution_count": 16,
   "id": "3e4480b4-4dd9-4d44-92ed-b831fdbcf4ed",
   "metadata": {},
   "outputs": [],
   "source": [
    "model = CnnHappy()\n",
    "loss_fn = nn.BCELoss()\n",
    "optimizer = torch.optim.Adam(model.parameters(), lr=0.001)"
   ]
  },
  {
   "cell_type": "code",
   "execution_count": 17,
   "id": "f2ffc762-a1b1-4eb6-a746-cd6c4414b8fa",
   "metadata": {},
   "outputs": [
    {
     "data": {
      "text/plain": [
       "18.75"
      ]
     },
     "execution_count": 17,
     "metadata": {},
     "output_type": "execute_result"
    }
   ],
   "source": [
    "600 / 32"
   ]
  },
  {
   "cell_type": "code",
   "execution_count": 18,
   "id": "db7e872e-2935-42ce-8ab3-05a7c0d58bd5",
   "metadata": {},
   "outputs": [
    {
     "data": {
      "text/plain": [
       "24"
      ]
     },
     "execution_count": 18,
     "metadata": {},
     "output_type": "execute_result"
    }
   ],
   "source": [
    "600 % 32"
   ]
  },
  {
   "cell_type": "code",
   "execution_count": 19,
   "id": "116f60dc-98c2-456a-95b9-a154458805eb",
   "metadata": {},
   "outputs": [],
   "source": [
    "\n",
    "def train(model, train_loader, optimizer, log_interval):\n",
    "    global label, preds, loss\n",
    "    model.train()\n",
    "    for batch_idx, (image, label)  in enumerate(train_loader):\n",
    "        optimizer.zero_grad()\n",
    "        preds = model(image)\n",
    "        loss = loss_fn(preds, label.view(-1,1))\n",
    "        loss.backward()\n",
    "        optimizer.step()\n"
   ]
  },
  {
   "cell_type": "code",
   "execution_count": 20,
   "id": "87ccdad4-4c2a-4b56-87ad-1224272e10ec",
   "metadata": {},
   "outputs": [],
   "source": [
    "for epoch in range(1, 11):\n",
    "    train(model, train_loader, optimizer, log_interval=3)\n",
    "    break"
   ]
  },
  {
   "cell_type": "code",
   "execution_count": 21,
   "id": "8e9d8c07-f316-4e24-875e-93b8dd383dcd",
   "metadata": {},
   "outputs": [
    {
     "data": {
      "text/plain": [
       "tensor([[1.],\n",
       "        [1.],\n",
       "        [1.],\n",
       "        [1.],\n",
       "        [1.],\n",
       "        [1.],\n",
       "        [1.],\n",
       "        [1.],\n",
       "        [1.],\n",
       "        [1.],\n",
       "        [1.],\n",
       "        [1.],\n",
       "        [1.],\n",
       "        [1.],\n",
       "        [1.],\n",
       "        [1.],\n",
       "        [1.],\n",
       "        [1.],\n",
       "        [1.],\n",
       "        [1.],\n",
       "        [1.],\n",
       "        [1.],\n",
       "        [1.],\n",
       "        [1.]], grad_fn=<RoundBackward0>)"
      ]
     },
     "execution_count": 21,
     "metadata": {},
     "output_type": "execute_result"
    }
   ],
   "source": [
    "preds.round()"
   ]
  },
  {
   "cell_type": "code",
   "execution_count": 22,
   "id": "ffe5ec91-56ca-4dc9-9307-1e0d5f647959",
   "metadata": {},
   "outputs": [
    {
     "data": {
      "text/plain": [
       "tensor(12)"
      ]
     },
     "execution_count": 22,
     "metadata": {},
     "output_type": "execute_result"
    }
   ],
   "source": [
    "(preds.round() == label.view(-1, 1)).sum()"
   ]
  },
  {
   "cell_type": "code",
   "execution_count": 23,
   "id": "88f666ef-aedd-4275-bf30-7166aa19a321",
   "metadata": {},
   "outputs": [
    {
     "data": {
      "text/plain": [
       "tensor([[0.],\n",
       "        [1.],\n",
       "        [0.],\n",
       "        [0.],\n",
       "        [1.],\n",
       "        [0.],\n",
       "        [0.],\n",
       "        [1.],\n",
       "        [0.],\n",
       "        [0.],\n",
       "        [0.],\n",
       "        [0.],\n",
       "        [0.],\n",
       "        [1.],\n",
       "        [1.],\n",
       "        [0.],\n",
       "        [1.],\n",
       "        [1.],\n",
       "        [1.],\n",
       "        [1.],\n",
       "        [1.],\n",
       "        [0.],\n",
       "        [1.],\n",
       "        [1.]])"
      ]
     },
     "execution_count": 23,
     "metadata": {},
     "output_type": "execute_result"
    }
   ],
   "source": [
    "label.view(-1, 1)"
   ]
  },
  {
   "cell_type": "code",
   "execution_count": 24,
   "id": "39da5c5b-89c1-4be7-b56f-e0ff56357f49",
   "metadata": {},
   "outputs": [
    {
     "data": {
      "text/plain": [
       "19"
      ]
     },
     "execution_count": 24,
     "metadata": {},
     "output_type": "execute_result"
    }
   ],
   "source": [
    "len(train_loader)"
   ]
  },
  {
   "cell_type": "code",
   "execution_count": 25,
   "id": "ded46d1b-a851-4281-9ca9-7998b7aeacf7",
   "metadata": {},
   "outputs": [],
   "source": [
    "def train(model, train_loader, test_loader, optimizer, epochs, log_interval):\n",
    "    #global label, preds\n",
    "    loss_hist_train       = [0] * epochs\n",
    "    accuracy_hist_train   = [0] * epochs\n",
    "    loss_hist_valid       = [0] * epochs\n",
    "    accuracy_hist_valid   = [0] * epochs\n",
    "    for epoch in range(epochs):\n",
    "        # 훈련\n",
    "        model.train()\n",
    "        for batch_idx, (image, label)  in enumerate(train_loader):\n",
    "            optimizer.zero_grad()\n",
    "            preds = model(image)\n",
    "            loss = loss_fn(preds, label.view(-1,1))\n",
    "            loss.backward()\n",
    "            optimizer.step()\n",
    "            \n",
    "            loss_hist_train[epoch] += loss.item() * label.size(0)\n",
    "            is_correct = (preds.round() == label.view(-1, 1)).sum().float()\n",
    "            # print(is_correct)\n",
    "            accuracy_hist_train[epoch] += is_correct.sum()\n",
    "\n",
    "        # print(accuracy_hist_train[epoch])\n",
    "        # print( f\"train_loader {len(train_loader.dataset)} \" )\n",
    "        accuracy_hist_train[epoch] /= len(train_loader.dataset)\n",
    "        # print(accuracy_hist_train[epoch])\n",
    "        loss_hist_train[epoch] /= len(train_loader.dataset)\n",
    "\n",
    "        # 평가 \n",
    "        model.eval()\n",
    "        with torch.no_grad():\n",
    "            for batch_idx, (image, label)  in enumerate(test_loader):\n",
    "                preds = model(image)\n",
    "                loss = loss_fn(preds, label.view(-1,1))\n",
    "                loss_hist_valid[epoch] += loss.item() * label.size(0)\n",
    "                is_correct = (preds.round() == label.view(-1, 1)).sum().float()\n",
    "                accuracy_hist_valid[epoch] += is_correct.sum()\n",
    "                \n",
    "        accuracy_hist_valid[epoch] /= len(test_loader.dataset)\n",
    "        loss_hist_valid[epoch] /= len(test_loader.dataset)\n",
    "\n",
    "        print(f\"에폭 {epoch+1}  정확도 : {accuracy_hist_train[epoch]:.4f} 검증 정확도 : {accuracy_hist_valid[epoch]:.4f}\")\n",
    "    return loss_hist_train, accuracy_hist_train , loss_hist_valid, accuracy_hist_valid "
   ]
  },
  {
   "cell_type": "markdown",
   "id": "2ff2fe71-2d91-43c2-b41f-9c13a817e97e",
   "metadata": {},
   "source": [
    "model, train_loader, test_loader, optimizer, epochs, log_interval"
   ]
  },
  {
   "cell_type": "code",
   "execution_count": 26,
   "id": "0505d861-d65b-4491-b424-ba57ffbb619c",
   "metadata": {
    "scrolled": true
   },
   "outputs": [
    {
     "name": "stdout",
     "output_type": "stream",
     "text": [
      "에폭 1  정확도 : 0.6033 검증 정확도 : 0.7267\n",
      "에폭 2  정확도 : 0.7850 검증 정확도 : 0.7800\n",
      "에폭 3  정확도 : 0.8717 검증 정확도 : 0.8933\n",
      "에폭 4  정확도 : 0.8950 검증 정확도 : 0.9133\n",
      "에폭 5  정확도 : 0.9483 검증 정확도 : 0.9200\n",
      "에폭 6  정확도 : 0.9500 검증 정확도 : 0.9333\n",
      "에폭 7  정확도 : 0.9617 검증 정확도 : 0.9467\n",
      "에폭 8  정확도 : 0.9633 검증 정확도 : 0.9600\n",
      "에폭 9  정확도 : 0.9750 검증 정확도 : 0.9667\n",
      "에폭 10  정확도 : 0.9600 검증 정확도 : 0.9400\n",
      "에폭 11  정확도 : 0.9767 검증 정확도 : 0.9267\n",
      "에폭 12  정확도 : 0.9717 검증 정확도 : 0.8333\n",
      "에폭 13  정확도 : 0.9667 검증 정확도 : 0.9533\n",
      "에폭 14  정확도 : 0.9700 검증 정확도 : 0.9067\n",
      "에폭 15  정확도 : 0.9733 검증 정확도 : 0.9600\n"
     ]
    }
   ],
   "source": [
    "model = CnnHappy()\n",
    "loss_fn = nn.BCELoss()\n",
    "optimizer = torch.optim.Adam(model.parameters(), lr=0.001)\n",
    "hist = train(model,  train_loader, test_loader, optimizer, 15, log_interval=1)"
   ]
  },
  {
   "cell_type": "code",
   "execution_count": 27,
   "id": "b2334927-ef7c-4dde-bd54-b0681e0c4a22",
   "metadata": {},
   "outputs": [],
   "source": [
    "loss_hist_train, accuracy_hist_train , loss_hist_valid, accuracy_hist_valid = hist"
   ]
  },
  {
   "cell_type": "code",
   "execution_count": 28,
   "id": "5bf98237-bd7e-4f56-9496-07055a8e680b",
   "metadata": {},
   "outputs": [
    {
     "data": {
      "image/png": "[encoded data removed]",
      "text/plain": [
       "<Figure size 1000x500 with 1 Axes>"
      ]
     },
     "metadata": {},
     "output_type": "display_data"
    }
   ],
   "source": [
    "import matplotlib.pyplot as plt \n",
    "\n",
    "plt.figure(figsize=(10,5))\n",
    "\n",
    "x_arr = np.arange(len(loss_hist_train)) + 1\n",
    "\n",
    "plt.plot(x_arr, loss_hist_train, '-o', label='Train loss')\n",
    "plt.plot(x_arr, loss_hist_valid, label='validation loss')\n",
    "plt.legend()\n",
    "plt.show()\n"
   ]
  },
  {
   "cell_type": "code",
   "execution_count": 29,
   "id": "46d3bfb9-d796-4275-94a7-656ce15d3b22",
   "metadata": {},
   "outputs": [
    {
     "data": {
      "image/png": "[encoded data removed]",
      "text/plain": [
       "<Figure size 1000x500 with 1 Axes>"
      ]
     },
     "metadata": {},
     "output_type": "display_data"
    }
   ],
   "source": [
    "import matplotlib.pyplot as plt \n",
    "\n",
    "plt.figure(figsize=(10,5))\n",
    "\n",
    "x_arr = np.arange(len(loss_hist_train)) + 1\n",
    "\n",
    "plt.plot(x_arr, accuracy_hist_train, '-o', label='Train acc')\n",
    "plt.plot(x_arr, accuracy_hist_valid, label='validation acc')\n",
    "plt.legend()\n",
    "plt.show()"
   ]
  },
  {
   "cell_type": "code",
   "execution_count": null,
   "id": "3687477e-9d3e-4563-9039-73ae82a8bfb5",
   "metadata": {},
   "outputs": [],
   "source": []
  },
  {
   "cell_type": "code",
   "execution_count": null,
   "id": "7890271a-b763-4924-a553-122817b606e6",
   "metadata": {},
   "outputs": [],
   "source": []
  },
  {
   "cell_type": "code",
   "execution_count": null,
   "id": "ea05d39a-9bc0-4d67-9576-f7cb7f959f51",
   "metadata": {},
   "outputs": [],
   "source": []
  },
  {
   "cell_type": "code",
   "execution_count": null,
   "id": "562b8d99-9bb2-4bb2-b590-9720d993e190",
   "metadata": {},
   "outputs": [],
   "source": []
  },
  {
   "cell_type": "code",
   "execution_count": null,
   "id": "db9623f6-9131-42b8-b2f7-c9ac1ed6205e",
   "metadata": {},
   "outputs": [],
   "source": []
  },
  {
   "cell_type": "code",
   "execution_count": null,
   "id": "e427a070-05e1-43cf-8323-6d527c775308",
   "metadata": {},
   "outputs": [],
   "source": []
  },
  {
   "cell_type": "code",
   "execution_count": null,
   "id": "233f5f5e-e2c3-4cc2-b49c-53f629e7117b",
   "metadata": {},
   "outputs": [],
   "source": []
  },
  {
   "cell_type": "code",
   "execution_count": null,
   "id": "7fccec48-1a2e-4480-9aa3-d9f715882674",
   "metadata": {},
   "outputs": [],
   "source": []
  },
  {
   "cell_type": "code",
   "execution_count": 30,
   "id": "44f8e86c-f1e2-4152-9d1c-e5219bc847d9",
   "metadata": {},
   "outputs": [
    {
     "data": {
      "text/plain": [
       "24"
      ]
     },
     "execution_count": 30,
     "metadata": {},
     "output_type": "execute_result"
    }
   ],
   "source": [
    "label.size(0)"
   ]
  },
  {
   "cell_type": "code",
   "execution_count": 31,
   "id": "9940371d-c50e-489d-bbd0-f988cbadbcba",
   "metadata": {},
   "outputs": [
    {
     "data": {
      "text/plain": [
       "torch.Size([24, 1])"
      ]
     },
     "execution_count": 31,
     "metadata": {},
     "output_type": "execute_result"
    }
   ],
   "source": [
    "label.view(-1,1).shape"
   ]
  },
  {
   "cell_type": "code",
   "execution_count": 32,
   "id": "18a594ba-c514-45d0-8838-ce3a633c38ff",
   "metadata": {},
   "outputs": [
    {
     "data": {
      "text/plain": [
       "torch.Size([24, 1])"
      ]
     },
     "execution_count": 32,
     "metadata": {},
     "output_type": "execute_result"
    }
   ],
   "source": [
    "preds.shape"
   ]
  },
  {
   "cell_type": "code",
   "execution_count": 33,
   "id": "d96ee8c7-829d-45d3-823d-34fd2a362be6",
   "metadata": {},
   "outputs": [
    {
     "data": {
      "text/plain": [
       "torch.float32"
      ]
     },
     "execution_count": 33,
     "metadata": {},
     "output_type": "execute_result"
    }
   ],
   "source": [
    "label.dtype"
   ]
  },
  {
   "cell_type": "code",
   "execution_count": 34,
   "id": "d80b3107-180d-4e44-97cb-cf25fc34ff32",
   "metadata": {},
   "outputs": [
    {
     "data": {
      "text/plain": [
       "torch.float32"
      ]
     },
     "execution_count": 34,
     "metadata": {},
     "output_type": "execute_result"
    }
   ],
   "source": [
    "preds.dtype"
   ]
  },
  {
   "cell_type": "code",
   "execution_count": null,
   "id": "6bb6bae3-24fe-40b6-990e-758cfacf1460",
   "metadata": {},
   "outputs": [],
   "source": []
  }
 ],
 "metadata": {
  "kernelspec": {
   "display_name": "pytorch",
   "language": "python",
   "name": "pytorch"
  },
  "language_info": {
   "codemirror_mode": {
    "name": "ipython",
    "version": 3
   },
   "file_extension": ".py",
   "mimetype": "text/x-python",
   "name": "python",
   "nbconvert_exporter": "python",
   "pygments_lexer": "ipython3",
   "version": "3.10.15"
  }
 },
 "nbformat": 4,
 "nbformat_minor": 5
}
